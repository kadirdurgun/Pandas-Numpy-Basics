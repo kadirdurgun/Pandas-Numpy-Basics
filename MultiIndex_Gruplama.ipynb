{
 "cells": [
  {
   "cell_type": "code",
   "execution_count": 1,
   "id": "aad94c26",
   "metadata": {},
   "outputs": [],
   "source": [
    "import numpy as np\n",
    "import pandas as pd\n",
    "from numpy.random import randn"
   ]
  },
  {
   "cell_type": "code",
   "execution_count": 2,
   "id": "f83cf7d2",
   "metadata": {},
   "outputs": [],
   "source": [
    "outerIndex = [\"Group1\",\"Group1\",\"Group1\",\"Group2\",\"Group2\",\"Group2\",\"Group3\",\"Group3\",\"Group3\"]\n"
   ]
  },
  {
   "cell_type": "code",
   "execution_count": 3,
   "id": "50f5403c",
   "metadata": {},
   "outputs": [],
   "source": [
    "innerIndex = [\"Index1\",\"Index2\",\"Index3\",\"Index1\",\"Index2\",\"Index3\",\"Index1\",\"Index2\",\"Index3\"]"
   ]
  },
  {
   "cell_type": "code",
   "execution_count": 4,
   "id": "b830cdb3",
   "metadata": {},
   "outputs": [
    {
     "data": {
      "text/plain": [
       "<zip at 0x24289c11d00>"
      ]
     },
     "execution_count": 4,
     "metadata": {},
     "output_type": "execute_result"
    }
   ],
   "source": [
    "zip(outerIndex,innerIndex)"
   ]
  },
  {
   "cell_type": "code",
   "execution_count": 5,
   "id": "da7de37f",
   "metadata": {},
   "outputs": [
    {
     "data": {
      "text/plain": [
       "[('Group1', 'Index1'),\n",
       " ('Group1', 'Index2'),\n",
       " ('Group1', 'Index3'),\n",
       " ('Group2', 'Index1'),\n",
       " ('Group2', 'Index2'),\n",
       " ('Group2', 'Index3'),\n",
       " ('Group3', 'Index1'),\n",
       " ('Group3', 'Index2'),\n",
       " ('Group3', 'Index3')]"
      ]
     },
     "execution_count": 5,
     "metadata": {},
     "output_type": "execute_result"
    }
   ],
   "source": [
    "list(zip(outerIndex,innerIndex))"
   ]
  },
  {
   "cell_type": "code",
   "execution_count": 8,
   "id": "fdddbc18",
   "metadata": {},
   "outputs": [],
   "source": [
    "hierarchy = list(zip(outerIndex,innerIndex))\n",
    "hierarchy = pd.MultiIndex.from_tuples(hierarchy)"
   ]
  },
  {
   "cell_type": "code",
   "execution_count": 9,
   "id": "900de668",
   "metadata": {},
   "outputs": [
    {
     "data": {
      "text/plain": [
       "MultiIndex([('Group1', 'Index1'),\n",
       "            ('Group1', 'Index2'),\n",
       "            ('Group1', 'Index3'),\n",
       "            ('Group2', 'Index1'),\n",
       "            ('Group2', 'Index2'),\n",
       "            ('Group2', 'Index3'),\n",
       "            ('Group3', 'Index1'),\n",
       "            ('Group3', 'Index2'),\n",
       "            ('Group3', 'Index3')],\n",
       "           )"
      ]
     },
     "execution_count": 9,
     "metadata": {},
     "output_type": "execute_result"
    }
   ],
   "source": [
    "hierarchy"
   ]
  },
  {
   "cell_type": "code",
   "execution_count": 10,
   "id": "b202ee0b",
   "metadata": {},
   "outputs": [],
   "source": [
    "df = pd.DataFrame(randn(9,3),hierarchy,columns = [\"A\",\"B\",\"C\"])"
   ]
  },
  {
   "cell_type": "code",
   "execution_count": 11,
   "id": "136be8ec",
   "metadata": {},
   "outputs": [
    {
     "data": {
      "text/html": [
       "<div>\n",
       "<style scoped>\n",
       "    .dataframe tbody tr th:only-of-type {\n",
       "        vertical-align: middle;\n",
       "    }\n",
       "\n",
       "    .dataframe tbody tr th {\n",
       "        vertical-align: top;\n",
       "    }\n",
       "\n",
       "    .dataframe thead th {\n",
       "        text-align: right;\n",
       "    }\n",
       "</style>\n",
       "<table border=\"1\" class=\"dataframe\">\n",
       "  <thead>\n",
       "    <tr style=\"text-align: right;\">\n",
       "      <th></th>\n",
       "      <th></th>\n",
       "      <th>A</th>\n",
       "      <th>B</th>\n",
       "      <th>C</th>\n",
       "    </tr>\n",
       "  </thead>\n",
       "  <tbody>\n",
       "    <tr>\n",
       "      <th rowspan=\"3\" valign=\"top\">Group1</th>\n",
       "      <th>Index1</th>\n",
       "      <td>-0.122948</td>\n",
       "      <td>0.057406</td>\n",
       "      <td>0.016133</td>\n",
       "    </tr>\n",
       "    <tr>\n",
       "      <th>Index2</th>\n",
       "      <td>-0.264481</td>\n",
       "      <td>-0.792412</td>\n",
       "      <td>0.895151</td>\n",
       "    </tr>\n",
       "    <tr>\n",
       "      <th>Index3</th>\n",
       "      <td>-0.840754</td>\n",
       "      <td>-1.183212</td>\n",
       "      <td>0.467058</td>\n",
       "    </tr>\n",
       "    <tr>\n",
       "      <th rowspan=\"3\" valign=\"top\">Group2</th>\n",
       "      <th>Index1</th>\n",
       "      <td>0.685960</td>\n",
       "      <td>-0.646184</td>\n",
       "      <td>-0.352933</td>\n",
       "    </tr>\n",
       "    <tr>\n",
       "      <th>Index2</th>\n",
       "      <td>1.215010</td>\n",
       "      <td>0.625562</td>\n",
       "      <td>0.059852</td>\n",
       "    </tr>\n",
       "    <tr>\n",
       "      <th>Index3</th>\n",
       "      <td>1.558769</td>\n",
       "      <td>-2.401123</td>\n",
       "      <td>-1.032602</td>\n",
       "    </tr>\n",
       "    <tr>\n",
       "      <th rowspan=\"3\" valign=\"top\">Group3</th>\n",
       "      <th>Index1</th>\n",
       "      <td>-0.465321</td>\n",
       "      <td>-0.128916</td>\n",
       "      <td>-1.779754</td>\n",
       "    </tr>\n",
       "    <tr>\n",
       "      <th>Index2</th>\n",
       "      <td>-0.619842</td>\n",
       "      <td>2.462515</td>\n",
       "      <td>0.897567</td>\n",
       "    </tr>\n",
       "    <tr>\n",
       "      <th>Index3</th>\n",
       "      <td>1.314401</td>\n",
       "      <td>-1.040732</td>\n",
       "      <td>-0.700232</td>\n",
       "    </tr>\n",
       "  </tbody>\n",
       "</table>\n",
       "</div>"
      ],
      "text/plain": [
       "                      A         B         C\n",
       "Group1 Index1 -0.122948  0.057406  0.016133\n",
       "       Index2 -0.264481 -0.792412  0.895151\n",
       "       Index3 -0.840754 -1.183212  0.467058\n",
       "Group2 Index1  0.685960 -0.646184 -0.352933\n",
       "       Index2  1.215010  0.625562  0.059852\n",
       "       Index3  1.558769 -2.401123 -1.032602\n",
       "Group3 Index1 -0.465321 -0.128916 -1.779754\n",
       "       Index2 -0.619842  2.462515  0.897567\n",
       "       Index3  1.314401 -1.040732 -0.700232"
      ]
     },
     "execution_count": 11,
     "metadata": {},
     "output_type": "execute_result"
    }
   ],
   "source": [
    "df\n"
   ]
  },
  {
   "cell_type": "code",
   "execution_count": 13,
   "id": "04e988dd",
   "metadata": {},
   "outputs": [
    {
     "data": {
      "text/plain": [
       "Group1  Index1   -0.122948\n",
       "        Index2   -0.264481\n",
       "        Index3   -0.840754\n",
       "Group2  Index1    0.685960\n",
       "        Index2    1.215010\n",
       "        Index3    1.558769\n",
       "Group3  Index1   -0.465321\n",
       "        Index2   -0.619842\n",
       "        Index3    1.314401\n",
       "Name: A, dtype: float64"
      ]
     },
     "execution_count": 13,
     "metadata": {},
     "output_type": "execute_result"
    }
   ],
   "source": [
    "df[\"A\"]"
   ]
  },
  {
   "cell_type": "code",
   "execution_count": 15,
   "id": "342327a5",
   "metadata": {},
   "outputs": [
    {
     "data": {
      "text/html": [
       "<div>\n",
       "<style scoped>\n",
       "    .dataframe tbody tr th:only-of-type {\n",
       "        vertical-align: middle;\n",
       "    }\n",
       "\n",
       "    .dataframe tbody tr th {\n",
       "        vertical-align: top;\n",
       "    }\n",
       "\n",
       "    .dataframe thead th {\n",
       "        text-align: right;\n",
       "    }\n",
       "</style>\n",
       "<table border=\"1\" class=\"dataframe\">\n",
       "  <thead>\n",
       "    <tr style=\"text-align: right;\">\n",
       "      <th></th>\n",
       "      <th>A</th>\n",
       "      <th>B</th>\n",
       "      <th>C</th>\n",
       "    </tr>\n",
       "  </thead>\n",
       "  <tbody>\n",
       "    <tr>\n",
       "      <th>Index1</th>\n",
       "      <td>-0.122948</td>\n",
       "      <td>0.057406</td>\n",
       "      <td>0.016133</td>\n",
       "    </tr>\n",
       "    <tr>\n",
       "      <th>Index2</th>\n",
       "      <td>-0.264481</td>\n",
       "      <td>-0.792412</td>\n",
       "      <td>0.895151</td>\n",
       "    </tr>\n",
       "    <tr>\n",
       "      <th>Index3</th>\n",
       "      <td>-0.840754</td>\n",
       "      <td>-1.183212</td>\n",
       "      <td>0.467058</td>\n",
       "    </tr>\n",
       "  </tbody>\n",
       "</table>\n",
       "</div>"
      ],
      "text/plain": [
       "               A         B         C\n",
       "Index1 -0.122948  0.057406  0.016133\n",
       "Index2 -0.264481 -0.792412  0.895151\n",
       "Index3 -0.840754 -1.183212  0.467058"
      ]
     },
     "execution_count": 15,
     "metadata": {},
     "output_type": "execute_result"
    }
   ],
   "source": [
    "df.loc[\"Group1\"]"
   ]
  },
  {
   "cell_type": "code",
   "execution_count": 16,
   "id": "f6f894da",
   "metadata": {},
   "outputs": [
    {
     "data": {
      "text/html": [
       "<div>\n",
       "<style scoped>\n",
       "    .dataframe tbody tr th:only-of-type {\n",
       "        vertical-align: middle;\n",
       "    }\n",
       "\n",
       "    .dataframe tbody tr th {\n",
       "        vertical-align: top;\n",
       "    }\n",
       "\n",
       "    .dataframe thead th {\n",
       "        text-align: right;\n",
       "    }\n",
       "</style>\n",
       "<table border=\"1\" class=\"dataframe\">\n",
       "  <thead>\n",
       "    <tr style=\"text-align: right;\">\n",
       "      <th></th>\n",
       "      <th></th>\n",
       "      <th>A</th>\n",
       "      <th>B</th>\n",
       "      <th>C</th>\n",
       "    </tr>\n",
       "  </thead>\n",
       "  <tbody>\n",
       "    <tr>\n",
       "      <th rowspan=\"3\" valign=\"top\">Group1</th>\n",
       "      <th>Index1</th>\n",
       "      <td>-0.122948</td>\n",
       "      <td>0.057406</td>\n",
       "      <td>0.016133</td>\n",
       "    </tr>\n",
       "    <tr>\n",
       "      <th>Index2</th>\n",
       "      <td>-0.264481</td>\n",
       "      <td>-0.792412</td>\n",
       "      <td>0.895151</td>\n",
       "    </tr>\n",
       "    <tr>\n",
       "      <th>Index3</th>\n",
       "      <td>-0.840754</td>\n",
       "      <td>-1.183212</td>\n",
       "      <td>0.467058</td>\n",
       "    </tr>\n",
       "    <tr>\n",
       "      <th rowspan=\"3\" valign=\"top\">Group2</th>\n",
       "      <th>Index1</th>\n",
       "      <td>0.685960</td>\n",
       "      <td>-0.646184</td>\n",
       "      <td>-0.352933</td>\n",
       "    </tr>\n",
       "    <tr>\n",
       "      <th>Index2</th>\n",
       "      <td>1.215010</td>\n",
       "      <td>0.625562</td>\n",
       "      <td>0.059852</td>\n",
       "    </tr>\n",
       "    <tr>\n",
       "      <th>Index3</th>\n",
       "      <td>1.558769</td>\n",
       "      <td>-2.401123</td>\n",
       "      <td>-1.032602</td>\n",
       "    </tr>\n",
       "  </tbody>\n",
       "</table>\n",
       "</div>"
      ],
      "text/plain": [
       "                      A         B         C\n",
       "Group1 Index1 -0.122948  0.057406  0.016133\n",
       "       Index2 -0.264481 -0.792412  0.895151\n",
       "       Index3 -0.840754 -1.183212  0.467058\n",
       "Group2 Index1  0.685960 -0.646184 -0.352933\n",
       "       Index2  1.215010  0.625562  0.059852\n",
       "       Index3  1.558769 -2.401123 -1.032602"
      ]
     },
     "execution_count": 16,
     "metadata": {},
     "output_type": "execute_result"
    }
   ],
   "source": [
    "df.loc[[\"Group1\",\"Group2\"]]"
   ]
  },
  {
   "cell_type": "code",
   "execution_count": 19,
   "id": "bd24d557",
   "metadata": {},
   "outputs": [],
   "source": [
    "df.index.names = [\"Groups\",\"Indexes\"]"
   ]
  },
  {
   "cell_type": "code",
   "execution_count": 20,
   "id": "e1528b3e",
   "metadata": {},
   "outputs": [
    {
     "data": {
      "text/html": [
       "<div>\n",
       "<style scoped>\n",
       "    .dataframe tbody tr th:only-of-type {\n",
       "        vertical-align: middle;\n",
       "    }\n",
       "\n",
       "    .dataframe tbody tr th {\n",
       "        vertical-align: top;\n",
       "    }\n",
       "\n",
       "    .dataframe thead th {\n",
       "        text-align: right;\n",
       "    }\n",
       "</style>\n",
       "<table border=\"1\" class=\"dataframe\">\n",
       "  <thead>\n",
       "    <tr style=\"text-align: right;\">\n",
       "      <th></th>\n",
       "      <th></th>\n",
       "      <th>A</th>\n",
       "      <th>B</th>\n",
       "      <th>C</th>\n",
       "    </tr>\n",
       "    <tr>\n",
       "      <th>Groups</th>\n",
       "      <th>Indexes</th>\n",
       "      <th></th>\n",
       "      <th></th>\n",
       "      <th></th>\n",
       "    </tr>\n",
       "  </thead>\n",
       "  <tbody>\n",
       "    <tr>\n",
       "      <th rowspan=\"3\" valign=\"top\">Group1</th>\n",
       "      <th>Index1</th>\n",
       "      <td>-0.122948</td>\n",
       "      <td>0.057406</td>\n",
       "      <td>0.016133</td>\n",
       "    </tr>\n",
       "    <tr>\n",
       "      <th>Index2</th>\n",
       "      <td>-0.264481</td>\n",
       "      <td>-0.792412</td>\n",
       "      <td>0.895151</td>\n",
       "    </tr>\n",
       "    <tr>\n",
       "      <th>Index3</th>\n",
       "      <td>-0.840754</td>\n",
       "      <td>-1.183212</td>\n",
       "      <td>0.467058</td>\n",
       "    </tr>\n",
       "    <tr>\n",
       "      <th rowspan=\"3\" valign=\"top\">Group2</th>\n",
       "      <th>Index1</th>\n",
       "      <td>0.685960</td>\n",
       "      <td>-0.646184</td>\n",
       "      <td>-0.352933</td>\n",
       "    </tr>\n",
       "    <tr>\n",
       "      <th>Index2</th>\n",
       "      <td>1.215010</td>\n",
       "      <td>0.625562</td>\n",
       "      <td>0.059852</td>\n",
       "    </tr>\n",
       "    <tr>\n",
       "      <th>Index3</th>\n",
       "      <td>1.558769</td>\n",
       "      <td>-2.401123</td>\n",
       "      <td>-1.032602</td>\n",
       "    </tr>\n",
       "    <tr>\n",
       "      <th rowspan=\"3\" valign=\"top\">Group3</th>\n",
       "      <th>Index1</th>\n",
       "      <td>-0.465321</td>\n",
       "      <td>-0.128916</td>\n",
       "      <td>-1.779754</td>\n",
       "    </tr>\n",
       "    <tr>\n",
       "      <th>Index2</th>\n",
       "      <td>-0.619842</td>\n",
       "      <td>2.462515</td>\n",
       "      <td>0.897567</td>\n",
       "    </tr>\n",
       "    <tr>\n",
       "      <th>Index3</th>\n",
       "      <td>1.314401</td>\n",
       "      <td>-1.040732</td>\n",
       "      <td>-0.700232</td>\n",
       "    </tr>\n",
       "  </tbody>\n",
       "</table>\n",
       "</div>"
      ],
      "text/plain": [
       "                       A         B         C\n",
       "Groups Indexes                              \n",
       "Group1 Index1  -0.122948  0.057406  0.016133\n",
       "       Index2  -0.264481 -0.792412  0.895151\n",
       "       Index3  -0.840754 -1.183212  0.467058\n",
       "Group2 Index1   0.685960 -0.646184 -0.352933\n",
       "       Index2   1.215010  0.625562  0.059852\n",
       "       Index3   1.558769 -2.401123 -1.032602\n",
       "Group3 Index1  -0.465321 -0.128916 -1.779754\n",
       "       Index2  -0.619842  2.462515  0.897567\n",
       "       Index3   1.314401 -1.040732 -0.700232"
      ]
     },
     "execution_count": 20,
     "metadata": {},
     "output_type": "execute_result"
    }
   ],
   "source": [
    "df"
   ]
  },
  {
   "cell_type": "code",
   "execution_count": 23,
   "id": "abca60b4",
   "metadata": {},
   "outputs": [],
   "source": [
    "df.columns.name = \"Columns\""
   ]
  },
  {
   "cell_type": "code",
   "execution_count": 24,
   "id": "f82cef8c",
   "metadata": {},
   "outputs": [
    {
     "data": {
      "text/html": [
       "<div>\n",
       "<style scoped>\n",
       "    .dataframe tbody tr th:only-of-type {\n",
       "        vertical-align: middle;\n",
       "    }\n",
       "\n",
       "    .dataframe tbody tr th {\n",
       "        vertical-align: top;\n",
       "    }\n",
       "\n",
       "    .dataframe thead th {\n",
       "        text-align: right;\n",
       "    }\n",
       "</style>\n",
       "<table border=\"1\" class=\"dataframe\">\n",
       "  <thead>\n",
       "    <tr style=\"text-align: right;\">\n",
       "      <th></th>\n",
       "      <th>Columns</th>\n",
       "      <th>A</th>\n",
       "      <th>B</th>\n",
       "      <th>C</th>\n",
       "    </tr>\n",
       "    <tr>\n",
       "      <th>Groups</th>\n",
       "      <th>Indexes</th>\n",
       "      <th></th>\n",
       "      <th></th>\n",
       "      <th></th>\n",
       "    </tr>\n",
       "  </thead>\n",
       "  <tbody>\n",
       "    <tr>\n",
       "      <th rowspan=\"3\" valign=\"top\">Group1</th>\n",
       "      <th>Index1</th>\n",
       "      <td>-0.122948</td>\n",
       "      <td>0.057406</td>\n",
       "      <td>0.016133</td>\n",
       "    </tr>\n",
       "    <tr>\n",
       "      <th>Index2</th>\n",
       "      <td>-0.264481</td>\n",
       "      <td>-0.792412</td>\n",
       "      <td>0.895151</td>\n",
       "    </tr>\n",
       "    <tr>\n",
       "      <th>Index3</th>\n",
       "      <td>-0.840754</td>\n",
       "      <td>-1.183212</td>\n",
       "      <td>0.467058</td>\n",
       "    </tr>\n",
       "    <tr>\n",
       "      <th rowspan=\"3\" valign=\"top\">Group2</th>\n",
       "      <th>Index1</th>\n",
       "      <td>0.685960</td>\n",
       "      <td>-0.646184</td>\n",
       "      <td>-0.352933</td>\n",
       "    </tr>\n",
       "    <tr>\n",
       "      <th>Index2</th>\n",
       "      <td>1.215010</td>\n",
       "      <td>0.625562</td>\n",
       "      <td>0.059852</td>\n",
       "    </tr>\n",
       "    <tr>\n",
       "      <th>Index3</th>\n",
       "      <td>1.558769</td>\n",
       "      <td>-2.401123</td>\n",
       "      <td>-1.032602</td>\n",
       "    </tr>\n",
       "    <tr>\n",
       "      <th rowspan=\"3\" valign=\"top\">Group3</th>\n",
       "      <th>Index1</th>\n",
       "      <td>-0.465321</td>\n",
       "      <td>-0.128916</td>\n",
       "      <td>-1.779754</td>\n",
       "    </tr>\n",
       "    <tr>\n",
       "      <th>Index2</th>\n",
       "      <td>-0.619842</td>\n",
       "      <td>2.462515</td>\n",
       "      <td>0.897567</td>\n",
       "    </tr>\n",
       "    <tr>\n",
       "      <th>Index3</th>\n",
       "      <td>1.314401</td>\n",
       "      <td>-1.040732</td>\n",
       "      <td>-0.700232</td>\n",
       "    </tr>\n",
       "  </tbody>\n",
       "</table>\n",
       "</div>"
      ],
      "text/plain": [
       "Columns                A         B         C\n",
       "Groups Indexes                              \n",
       "Group1 Index1  -0.122948  0.057406  0.016133\n",
       "       Index2  -0.264481 -0.792412  0.895151\n",
       "       Index3  -0.840754 -1.183212  0.467058\n",
       "Group2 Index1   0.685960 -0.646184 -0.352933\n",
       "       Index2   1.215010  0.625562  0.059852\n",
       "       Index3   1.558769 -2.401123 -1.032602\n",
       "Group3 Index1  -0.465321 -0.128916 -1.779754\n",
       "       Index2  -0.619842  2.462515  0.897567\n",
       "       Index3   1.314401 -1.040732 -0.700232"
      ]
     },
     "execution_count": 24,
     "metadata": {},
     "output_type": "execute_result"
    }
   ],
   "source": [
    "df"
   ]
  },
  {
   "cell_type": "code",
   "execution_count": 30,
   "id": "12875f27",
   "metadata": {},
   "outputs": [],
   "source": [
    "df.columns.names = [\"Columnss\"]"
   ]
  },
  {
   "cell_type": "code",
   "execution_count": 31,
   "id": "c076620b",
   "metadata": {},
   "outputs": [
    {
     "data": {
      "text/html": [
       "<div>\n",
       "<style scoped>\n",
       "    .dataframe tbody tr th:only-of-type {\n",
       "        vertical-align: middle;\n",
       "    }\n",
       "\n",
       "    .dataframe tbody tr th {\n",
       "        vertical-align: top;\n",
       "    }\n",
       "\n",
       "    .dataframe thead th {\n",
       "        text-align: right;\n",
       "    }\n",
       "</style>\n",
       "<table border=\"1\" class=\"dataframe\">\n",
       "  <thead>\n",
       "    <tr style=\"text-align: right;\">\n",
       "      <th></th>\n",
       "      <th>Columnss</th>\n",
       "      <th>A</th>\n",
       "      <th>B</th>\n",
       "      <th>C</th>\n",
       "    </tr>\n",
       "    <tr>\n",
       "      <th>Groups</th>\n",
       "      <th>Indexes</th>\n",
       "      <th></th>\n",
       "      <th></th>\n",
       "      <th></th>\n",
       "    </tr>\n",
       "  </thead>\n",
       "  <tbody>\n",
       "    <tr>\n",
       "      <th rowspan=\"3\" valign=\"top\">Group1</th>\n",
       "      <th>Index1</th>\n",
       "      <td>-0.122948</td>\n",
       "      <td>0.057406</td>\n",
       "      <td>0.016133</td>\n",
       "    </tr>\n",
       "    <tr>\n",
       "      <th>Index2</th>\n",
       "      <td>-0.264481</td>\n",
       "      <td>-0.792412</td>\n",
       "      <td>0.895151</td>\n",
       "    </tr>\n",
       "    <tr>\n",
       "      <th>Index3</th>\n",
       "      <td>-0.840754</td>\n",
       "      <td>-1.183212</td>\n",
       "      <td>0.467058</td>\n",
       "    </tr>\n",
       "    <tr>\n",
       "      <th rowspan=\"3\" valign=\"top\">Group2</th>\n",
       "      <th>Index1</th>\n",
       "      <td>0.685960</td>\n",
       "      <td>-0.646184</td>\n",
       "      <td>-0.352933</td>\n",
       "    </tr>\n",
       "    <tr>\n",
       "      <th>Index2</th>\n",
       "      <td>1.215010</td>\n",
       "      <td>0.625562</td>\n",
       "      <td>0.059852</td>\n",
       "    </tr>\n",
       "    <tr>\n",
       "      <th>Index3</th>\n",
       "      <td>1.558769</td>\n",
       "      <td>-2.401123</td>\n",
       "      <td>-1.032602</td>\n",
       "    </tr>\n",
       "    <tr>\n",
       "      <th rowspan=\"3\" valign=\"top\">Group3</th>\n",
       "      <th>Index1</th>\n",
       "      <td>-0.465321</td>\n",
       "      <td>-0.128916</td>\n",
       "      <td>-1.779754</td>\n",
       "    </tr>\n",
       "    <tr>\n",
       "      <th>Index2</th>\n",
       "      <td>-0.619842</td>\n",
       "      <td>2.462515</td>\n",
       "      <td>0.897567</td>\n",
       "    </tr>\n",
       "    <tr>\n",
       "      <th>Index3</th>\n",
       "      <td>1.314401</td>\n",
       "      <td>-1.040732</td>\n",
       "      <td>-0.700232</td>\n",
       "    </tr>\n",
       "  </tbody>\n",
       "</table>\n",
       "</div>"
      ],
      "text/plain": [
       "Columnss               A         B         C\n",
       "Groups Indexes                              \n",
       "Group1 Index1  -0.122948  0.057406  0.016133\n",
       "       Index2  -0.264481 -0.792412  0.895151\n",
       "       Index3  -0.840754 -1.183212  0.467058\n",
       "Group2 Index1   0.685960 -0.646184 -0.352933\n",
       "       Index2   1.215010  0.625562  0.059852\n",
       "       Index3   1.558769 -2.401123 -1.032602\n",
       "Group3 Index1  -0.465321 -0.128916 -1.779754\n",
       "       Index2  -0.619842  2.462515  0.897567\n",
       "       Index3   1.314401 -1.040732 -0.700232"
      ]
     },
     "execution_count": 31,
     "metadata": {},
     "output_type": "execute_result"
    }
   ],
   "source": [
    "df"
   ]
  },
  {
   "cell_type": "code",
   "execution_count": 33,
   "id": "4ddd358f",
   "metadata": {},
   "outputs": [
    {
     "data": {
      "text/plain": [
       "-0.7924122429636412"
      ]
     },
     "execution_count": 33,
     "metadata": {},
     "output_type": "execute_result"
    }
   ],
   "source": [
    "df.loc[\"Group1\"].loc[\"Index2\"][\"B\"]"
   ]
  },
  {
   "cell_type": "code",
   "execution_count": 35,
   "id": "eb7f9b47",
   "metadata": {},
   "outputs": [
    {
     "data": {
      "text/html": [
       "<div>\n",
       "<style scoped>\n",
       "    .dataframe tbody tr th:only-of-type {\n",
       "        vertical-align: middle;\n",
       "    }\n",
       "\n",
       "    .dataframe tbody tr th {\n",
       "        vertical-align: top;\n",
       "    }\n",
       "\n",
       "    .dataframe thead th {\n",
       "        text-align: right;\n",
       "    }\n",
       "</style>\n",
       "<table border=\"1\" class=\"dataframe\">\n",
       "  <thead>\n",
       "    <tr style=\"text-align: right;\">\n",
       "      <th>Columnss</th>\n",
       "      <th>A</th>\n",
       "      <th>B</th>\n",
       "      <th>C</th>\n",
       "    </tr>\n",
       "    <tr>\n",
       "      <th>Indexes</th>\n",
       "      <th></th>\n",
       "      <th></th>\n",
       "      <th></th>\n",
       "    </tr>\n",
       "  </thead>\n",
       "  <tbody>\n",
       "    <tr>\n",
       "      <th>Index1</th>\n",
       "      <td>-0.122948</td>\n",
       "      <td>0.057406</td>\n",
       "      <td>0.016133</td>\n",
       "    </tr>\n",
       "    <tr>\n",
       "      <th>Index2</th>\n",
       "      <td>-0.264481</td>\n",
       "      <td>-0.792412</td>\n",
       "      <td>0.895151</td>\n",
       "    </tr>\n",
       "    <tr>\n",
       "      <th>Index3</th>\n",
       "      <td>-0.840754</td>\n",
       "      <td>-1.183212</td>\n",
       "      <td>0.467058</td>\n",
       "    </tr>\n",
       "  </tbody>\n",
       "</table>\n",
       "</div>"
      ],
      "text/plain": [
       "Columnss         A         B         C\n",
       "Indexes                               \n",
       "Index1   -0.122948  0.057406  0.016133\n",
       "Index2   -0.264481 -0.792412  0.895151\n",
       "Index3   -0.840754 -1.183212  0.467058"
      ]
     },
     "execution_count": 35,
     "metadata": {},
     "output_type": "execute_result"
    }
   ],
   "source": [
    "df.xs(\"Group1\")"
   ]
  },
  {
   "cell_type": "code",
   "execution_count": 37,
   "id": "aa35ab22",
   "metadata": {},
   "outputs": [
    {
     "data": {
      "text/plain": [
       "Columnss\n",
       "A    1.215010\n",
       "B    0.625562\n",
       "C    0.059852\n",
       "Name: Index2, dtype: float64"
      ]
     },
     "execution_count": 37,
     "metadata": {},
     "output_type": "execute_result"
    }
   ],
   "source": [
    "df.xs(\"Group2\").xs(\"Index2\")"
   ]
  },
  {
   "cell_type": "code",
   "execution_count": 39,
   "id": "acc8d5bb",
   "metadata": {},
   "outputs": [
    {
     "data": {
      "text/html": [
       "<div>\n",
       "<style scoped>\n",
       "    .dataframe tbody tr th:only-of-type {\n",
       "        vertical-align: middle;\n",
       "    }\n",
       "\n",
       "    .dataframe tbody tr th {\n",
       "        vertical-align: top;\n",
       "    }\n",
       "\n",
       "    .dataframe thead th {\n",
       "        text-align: right;\n",
       "    }\n",
       "</style>\n",
       "<table border=\"1\" class=\"dataframe\">\n",
       "  <thead>\n",
       "    <tr style=\"text-align: right;\">\n",
       "      <th>Columnss</th>\n",
       "      <th>A</th>\n",
       "      <th>B</th>\n",
       "      <th>C</th>\n",
       "    </tr>\n",
       "    <tr>\n",
       "      <th>Groups</th>\n",
       "      <th></th>\n",
       "      <th></th>\n",
       "      <th></th>\n",
       "    </tr>\n",
       "  </thead>\n",
       "  <tbody>\n",
       "    <tr>\n",
       "      <th>Group1</th>\n",
       "      <td>-0.122948</td>\n",
       "      <td>0.057406</td>\n",
       "      <td>0.016133</td>\n",
       "    </tr>\n",
       "    <tr>\n",
       "      <th>Group2</th>\n",
       "      <td>0.685960</td>\n",
       "      <td>-0.646184</td>\n",
       "      <td>-0.352933</td>\n",
       "    </tr>\n",
       "    <tr>\n",
       "      <th>Group3</th>\n",
       "      <td>-0.465321</td>\n",
       "      <td>-0.128916</td>\n",
       "      <td>-1.779754</td>\n",
       "    </tr>\n",
       "  </tbody>\n",
       "</table>\n",
       "</div>"
      ],
      "text/plain": [
       "Columnss         A         B         C\n",
       "Groups                                \n",
       "Group1   -0.122948  0.057406  0.016133\n",
       "Group2    0.685960 -0.646184 -0.352933\n",
       "Group3   -0.465321 -0.128916 -1.779754"
      ]
     },
     "execution_count": 39,
     "metadata": {},
     "output_type": "execute_result"
    }
   ],
   "source": [
    "df.xs(\"Index1\",level=\"Indexes\")"
   ]
  },
  {
   "cell_type": "code",
   "execution_count": 41,
   "id": "912e3999",
   "metadata": {},
   "outputs": [
    {
     "data": {
      "text/html": [
       "<div>\n",
       "<style scoped>\n",
       "    .dataframe tbody tr th:only-of-type {\n",
       "        vertical-align: middle;\n",
       "    }\n",
       "\n",
       "    .dataframe tbody tr th {\n",
       "        vertical-align: top;\n",
       "    }\n",
       "\n",
       "    .dataframe thead th {\n",
       "        text-align: right;\n",
       "    }\n",
       "</style>\n",
       "<table border=\"1\" class=\"dataframe\">\n",
       "  <thead>\n",
       "    <tr style=\"text-align: right;\">\n",
       "      <th>Columnss</th>\n",
       "      <th>A</th>\n",
       "      <th>B</th>\n",
       "      <th>C</th>\n",
       "    </tr>\n",
       "    <tr>\n",
       "      <th>Groups</th>\n",
       "      <th></th>\n",
       "      <th></th>\n",
       "      <th></th>\n",
       "    </tr>\n",
       "  </thead>\n",
       "  <tbody>\n",
       "    <tr>\n",
       "      <th>Group1</th>\n",
       "      <td>-0.264481</td>\n",
       "      <td>-0.792412</td>\n",
       "      <td>0.895151</td>\n",
       "    </tr>\n",
       "    <tr>\n",
       "      <th>Group2</th>\n",
       "      <td>1.215010</td>\n",
       "      <td>0.625562</td>\n",
       "      <td>0.059852</td>\n",
       "    </tr>\n",
       "    <tr>\n",
       "      <th>Group3</th>\n",
       "      <td>-0.619842</td>\n",
       "      <td>2.462515</td>\n",
       "      <td>0.897567</td>\n",
       "    </tr>\n",
       "  </tbody>\n",
       "</table>\n",
       "</div>"
      ],
      "text/plain": [
       "Columnss         A         B         C\n",
       "Groups                                \n",
       "Group1   -0.264481 -0.792412  0.895151\n",
       "Group2    1.215010  0.625562  0.059852\n",
       "Group3   -0.619842  2.462515  0.897567"
      ]
     },
     "execution_count": 41,
     "metadata": {},
     "output_type": "execute_result"
    }
   ],
   "source": [
    "df.xs(\"Index2\",level=\"Indexes\")"
   ]
  },
  {
   "cell_type": "code",
   "execution_count": 42,
   "id": "d3aaf7b8",
   "metadata": {},
   "outputs": [
    {
     "data": {
      "text/html": [
       "<div>\n",
       "<style scoped>\n",
       "    .dataframe tbody tr th:only-of-type {\n",
       "        vertical-align: middle;\n",
       "    }\n",
       "\n",
       "    .dataframe tbody tr th {\n",
       "        vertical-align: top;\n",
       "    }\n",
       "\n",
       "    .dataframe thead th {\n",
       "        text-align: right;\n",
       "    }\n",
       "</style>\n",
       "<table border=\"1\" class=\"dataframe\">\n",
       "  <thead>\n",
       "    <tr style=\"text-align: right;\">\n",
       "      <th></th>\n",
       "      <th>Columnss</th>\n",
       "      <th>A</th>\n",
       "      <th>B</th>\n",
       "      <th>C</th>\n",
       "    </tr>\n",
       "    <tr>\n",
       "      <th>Groups</th>\n",
       "      <th>Indexes</th>\n",
       "      <th></th>\n",
       "      <th></th>\n",
       "      <th></th>\n",
       "    </tr>\n",
       "  </thead>\n",
       "  <tbody>\n",
       "    <tr>\n",
       "      <th rowspan=\"3\" valign=\"top\">Group1</th>\n",
       "      <th>Index1</th>\n",
       "      <td>-0.122948</td>\n",
       "      <td>0.057406</td>\n",
       "      <td>0.016133</td>\n",
       "    </tr>\n",
       "    <tr>\n",
       "      <th>Index2</th>\n",
       "      <td>-0.264481</td>\n",
       "      <td>-0.792412</td>\n",
       "      <td>0.895151</td>\n",
       "    </tr>\n",
       "    <tr>\n",
       "      <th>Index3</th>\n",
       "      <td>-0.840754</td>\n",
       "      <td>-1.183212</td>\n",
       "      <td>0.467058</td>\n",
       "    </tr>\n",
       "    <tr>\n",
       "      <th rowspan=\"3\" valign=\"top\">Group2</th>\n",
       "      <th>Index1</th>\n",
       "      <td>0.685960</td>\n",
       "      <td>-0.646184</td>\n",
       "      <td>-0.352933</td>\n",
       "    </tr>\n",
       "    <tr>\n",
       "      <th>Index2</th>\n",
       "      <td>1.215010</td>\n",
       "      <td>0.625562</td>\n",
       "      <td>0.059852</td>\n",
       "    </tr>\n",
       "    <tr>\n",
       "      <th>Index3</th>\n",
       "      <td>1.558769</td>\n",
       "      <td>-2.401123</td>\n",
       "      <td>-1.032602</td>\n",
       "    </tr>\n",
       "    <tr>\n",
       "      <th rowspan=\"3\" valign=\"top\">Group3</th>\n",
       "      <th>Index1</th>\n",
       "      <td>-0.465321</td>\n",
       "      <td>-0.128916</td>\n",
       "      <td>-1.779754</td>\n",
       "    </tr>\n",
       "    <tr>\n",
       "      <th>Index2</th>\n",
       "      <td>-0.619842</td>\n",
       "      <td>2.462515</td>\n",
       "      <td>0.897567</td>\n",
       "    </tr>\n",
       "    <tr>\n",
       "      <th>Index3</th>\n",
       "      <td>1.314401</td>\n",
       "      <td>-1.040732</td>\n",
       "      <td>-0.700232</td>\n",
       "    </tr>\n",
       "  </tbody>\n",
       "</table>\n",
       "</div>"
      ],
      "text/plain": [
       "Columnss               A         B         C\n",
       "Groups Indexes                              \n",
       "Group1 Index1  -0.122948  0.057406  0.016133\n",
       "       Index2  -0.264481 -0.792412  0.895151\n",
       "       Index3  -0.840754 -1.183212  0.467058\n",
       "Group2 Index1   0.685960 -0.646184 -0.352933\n",
       "       Index2   1.215010  0.625562  0.059852\n",
       "       Index3   1.558769 -2.401123 -1.032602\n",
       "Group3 Index1  -0.465321 -0.128916 -1.779754\n",
       "       Index2  -0.619842  2.462515  0.897567\n",
       "       Index3   1.314401 -1.040732 -0.700232"
      ]
     },
     "execution_count": 42,
     "metadata": {},
     "output_type": "execute_result"
    }
   ],
   "source": [
    "df"
   ]
  },
  {
   "cell_type": "code",
   "execution_count": 43,
   "id": "8e34e413",
   "metadata": {},
   "outputs": [
    {
     "data": {
      "text/html": [
       "<div>\n",
       "<style scoped>\n",
       "    .dataframe tbody tr th:only-of-type {\n",
       "        vertical-align: middle;\n",
       "    }\n",
       "\n",
       "    .dataframe tbody tr th {\n",
       "        vertical-align: top;\n",
       "    }\n",
       "\n",
       "    .dataframe thead th {\n",
       "        text-align: right;\n",
       "    }\n",
       "</style>\n",
       "<table border=\"1\" class=\"dataframe\">\n",
       "  <thead>\n",
       "    <tr style=\"text-align: right;\">\n",
       "      <th>Columnss</th>\n",
       "      <th>A</th>\n",
       "      <th>B</th>\n",
       "      <th>C</th>\n",
       "    </tr>\n",
       "    <tr>\n",
       "      <th>Indexes</th>\n",
       "      <th></th>\n",
       "      <th></th>\n",
       "      <th></th>\n",
       "    </tr>\n",
       "  </thead>\n",
       "  <tbody>\n",
       "    <tr>\n",
       "      <th>Index1</th>\n",
       "      <td>0.685960</td>\n",
       "      <td>-0.646184</td>\n",
       "      <td>-0.352933</td>\n",
       "    </tr>\n",
       "    <tr>\n",
       "      <th>Index2</th>\n",
       "      <td>1.215010</td>\n",
       "      <td>0.625562</td>\n",
       "      <td>0.059852</td>\n",
       "    </tr>\n",
       "    <tr>\n",
       "      <th>Index3</th>\n",
       "      <td>1.558769</td>\n",
       "      <td>-2.401123</td>\n",
       "      <td>-1.032602</td>\n",
       "    </tr>\n",
       "  </tbody>\n",
       "</table>\n",
       "</div>"
      ],
      "text/plain": [
       "Columnss         A         B         C\n",
       "Indexes                               \n",
       "Index1    0.685960 -0.646184 -0.352933\n",
       "Index2    1.215010  0.625562  0.059852\n",
       "Index3    1.558769 -2.401123 -1.032602"
      ]
     },
     "execution_count": 43,
     "metadata": {},
     "output_type": "execute_result"
    }
   ],
   "source": [
    "df.xs(\"Group2\",level=\"Groups\")"
   ]
  },
  {
   "cell_type": "code",
   "execution_count": null,
   "id": "3cda2eb6",
   "metadata": {},
   "outputs": [],
   "source": []
  }
 ],
 "metadata": {
  "kernelspec": {
   "display_name": "Python 3",
   "language": "python",
   "name": "python3"
  },
  "language_info": {
   "codemirror_mode": {
    "name": "ipython",
    "version": 3
   },
   "file_extension": ".py",
   "mimetype": "text/x-python",
   "name": "python",
   "nbconvert_exporter": "python",
   "pygments_lexer": "ipython3",
   "version": "3.8.8"
  }
 },
 "nbformat": 4,
 "nbformat_minor": 5
}
