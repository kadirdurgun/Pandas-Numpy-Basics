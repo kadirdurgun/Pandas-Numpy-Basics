{
 "cells": [
  {
   "cell_type": "code",
   "execution_count": 1,
   "id": "4658341f",
   "metadata": {},
   "outputs": [
    {
     "ename": "ModuleNotFoundError",
     "evalue": "No module named 'pandas'",
     "output_type": "error",
     "traceback": [
      "\u001b[1;31m---------------------------------------------------------------------------\u001b[0m",
      "\u001b[1;31mModuleNotFoundError\u001b[0m                       Traceback (most recent call last)",
      "\u001b[1;32m~\\AppData\\Local\\Temp/ipykernel_9356/1973376716.py\u001b[0m in \u001b[0;36m<module>\u001b[1;34m\u001b[0m\n\u001b[0;32m      1\u001b[0m \u001b[1;32mimport\u001b[0m \u001b[0mnumpy\u001b[0m \u001b[1;32mas\u001b[0m \u001b[0mnp\u001b[0m\u001b[1;33m\u001b[0m\u001b[1;33m\u001b[0m\u001b[0m\n\u001b[1;32m----> 2\u001b[1;33m \u001b[1;32mimport\u001b[0m \u001b[0mpandas\u001b[0m \u001b[1;32mas\u001b[0m \u001b[0mpd\u001b[0m\u001b[1;33m\u001b[0m\u001b[1;33m\u001b[0m\u001b[0m\n\u001b[0m\u001b[0;32m      3\u001b[0m \u001b[1;32mfrom\u001b[0m \u001b[0mnumpy\u001b[0m\u001b[1;33m.\u001b[0m\u001b[0mrandom\u001b[0m \u001b[1;32mimport\u001b[0m \u001b[0mrandn\u001b[0m\u001b[1;33m\u001b[0m\u001b[1;33m\u001b[0m\u001b[0m\n",
      "\u001b[1;31mModuleNotFoundError\u001b[0m: No module named 'pandas'"
     ]
    }
   ],
   "source": [
    "import numpy as np\n",
    "import pandas as pd\n",
    "from numpy.random import randn"
   ]
  },
  {
   "cell_type": "code",
   "execution_count": 3,
   "id": "eea9eccf",
   "metadata": {},
   "outputs": [],
   "source": [
    "df = pd.DataFrame(randn(3,4),[\"a\",\"b\",\"c\"],[\"Column1\",\"Column2\",\"Column3\",\"Column4\"])"
   ]
  },
  {
   "cell_type": "code",
   "execution_count": 4,
   "id": "6782b5bd",
   "metadata": {},
   "outputs": [
    {
     "data": {
      "text/html": [
       "<div>\n",
       "<style scoped>\n",
       "    .dataframe tbody tr th:only-of-type {\n",
       "        vertical-align: middle;\n",
       "    }\n",
       "\n",
       "    .dataframe tbody tr th {\n",
       "        vertical-align: top;\n",
       "    }\n",
       "\n",
       "    .dataframe thead th {\n",
       "        text-align: right;\n",
       "    }\n",
       "</style>\n",
       "<table border=\"1\" class=\"dataframe\">\n",
       "  <thead>\n",
       "    <tr style=\"text-align: right;\">\n",
       "      <th></th>\n",
       "      <th>Column1</th>\n",
       "      <th>Column2</th>\n",
       "      <th>Column3</th>\n",
       "      <th>Column4</th>\n",
       "    </tr>\n",
       "  </thead>\n",
       "  <tbody>\n",
       "    <tr>\n",
       "      <th>a</th>\n",
       "      <td>-1.828176</td>\n",
       "      <td>0.868624</td>\n",
       "      <td>0.806492</td>\n",
       "      <td>0.779450</td>\n",
       "    </tr>\n",
       "    <tr>\n",
       "      <th>b</th>\n",
       "      <td>-0.387825</td>\n",
       "      <td>-0.021886</td>\n",
       "      <td>-1.544030</td>\n",
       "      <td>-0.397330</td>\n",
       "    </tr>\n",
       "    <tr>\n",
       "      <th>c</th>\n",
       "      <td>0.117369</td>\n",
       "      <td>-0.014371</td>\n",
       "      <td>-1.575668</td>\n",
       "      <td>-1.273715</td>\n",
       "    </tr>\n",
       "  </tbody>\n",
       "</table>\n",
       "</div>"
      ],
      "text/plain": [
       "    Column1   Column2   Column3   Column4\n",
       "a -1.828176  0.868624  0.806492  0.779450\n",
       "b -0.387825 -0.021886 -1.544030 -0.397330\n",
       "c  0.117369 -0.014371 -1.575668 -1.273715"
      ]
     },
     "execution_count": 4,
     "metadata": {},
     "output_type": "execute_result"
    }
   ],
   "source": [
    "df"
   ]
  },
  {
   "cell_type": "code",
   "execution_count": 5,
   "id": "ba632fdf",
   "metadata": {},
   "outputs": [
    {
     "data": {
      "text/html": [
       "<div>\n",
       "<style scoped>\n",
       "    .dataframe tbody tr th:only-of-type {\n",
       "        vertical-align: middle;\n",
       "    }\n",
       "\n",
       "    .dataframe tbody tr th {\n",
       "        vertical-align: top;\n",
       "    }\n",
       "\n",
       "    .dataframe thead th {\n",
       "        text-align: right;\n",
       "    }\n",
       "</style>\n",
       "<table border=\"1\" class=\"dataframe\">\n",
       "  <thead>\n",
       "    <tr style=\"text-align: right;\">\n",
       "      <th></th>\n",
       "      <th>Column1</th>\n",
       "      <th>Column2</th>\n",
       "      <th>Column3</th>\n",
       "      <th>Column4</th>\n",
       "    </tr>\n",
       "  </thead>\n",
       "  <tbody>\n",
       "    <tr>\n",
       "      <th>a</th>\n",
       "      <td>True</td>\n",
       "      <td>False</td>\n",
       "      <td>False</td>\n",
       "      <td>False</td>\n",
       "    </tr>\n",
       "    <tr>\n",
       "      <th>b</th>\n",
       "      <td>True</td>\n",
       "      <td>True</td>\n",
       "      <td>True</td>\n",
       "      <td>True</td>\n",
       "    </tr>\n",
       "    <tr>\n",
       "      <th>c</th>\n",
       "      <td>True</td>\n",
       "      <td>True</td>\n",
       "      <td>True</td>\n",
       "      <td>True</td>\n",
       "    </tr>\n",
       "  </tbody>\n",
       "</table>\n",
       "</div>"
      ],
      "text/plain": [
       "   Column1  Column2  Column3  Column4\n",
       "a     True    False    False    False\n",
       "b     True     True     True     True\n",
       "c     True     True     True     True"
      ]
     },
     "execution_count": 5,
     "metadata": {},
     "output_type": "execute_result"
    }
   ],
   "source": [
    "df < 0.5"
   ]
  },
  {
   "cell_type": "code",
   "execution_count": 6,
   "id": "0b18a108",
   "metadata": {},
   "outputs": [],
   "source": [
    "booleanDf = df < 0.5"
   ]
  },
  {
   "cell_type": "code",
   "execution_count": 7,
   "id": "d2087b7f",
   "metadata": {},
   "outputs": [
    {
     "data": {
      "text/html": [
       "<div>\n",
       "<style scoped>\n",
       "    .dataframe tbody tr th:only-of-type {\n",
       "        vertical-align: middle;\n",
       "    }\n",
       "\n",
       "    .dataframe tbody tr th {\n",
       "        vertical-align: top;\n",
       "    }\n",
       "\n",
       "    .dataframe thead th {\n",
       "        text-align: right;\n",
       "    }\n",
       "</style>\n",
       "<table border=\"1\" class=\"dataframe\">\n",
       "  <thead>\n",
       "    <tr style=\"text-align: right;\">\n",
       "      <th></th>\n",
       "      <th>Column1</th>\n",
       "      <th>Column2</th>\n",
       "      <th>Column3</th>\n",
       "      <th>Column4</th>\n",
       "    </tr>\n",
       "  </thead>\n",
       "  <tbody>\n",
       "    <tr>\n",
       "      <th>a</th>\n",
       "      <td>True</td>\n",
       "      <td>False</td>\n",
       "      <td>False</td>\n",
       "      <td>False</td>\n",
       "    </tr>\n",
       "    <tr>\n",
       "      <th>b</th>\n",
       "      <td>True</td>\n",
       "      <td>True</td>\n",
       "      <td>True</td>\n",
       "      <td>True</td>\n",
       "    </tr>\n",
       "    <tr>\n",
       "      <th>c</th>\n",
       "      <td>True</td>\n",
       "      <td>True</td>\n",
       "      <td>True</td>\n",
       "      <td>True</td>\n",
       "    </tr>\n",
       "  </tbody>\n",
       "</table>\n",
       "</div>"
      ],
      "text/plain": [
       "   Column1  Column2  Column3  Column4\n",
       "a     True    False    False    False\n",
       "b     True     True     True     True\n",
       "c     True     True     True     True"
      ]
     },
     "execution_count": 7,
     "metadata": {},
     "output_type": "execute_result"
    }
   ],
   "source": [
    "booleanDf"
   ]
  },
  {
   "cell_type": "code",
   "execution_count": 8,
   "id": "fccfd12b",
   "metadata": {},
   "outputs": [
    {
     "data": {
      "text/html": [
       "<div>\n",
       "<style scoped>\n",
       "    .dataframe tbody tr th:only-of-type {\n",
       "        vertical-align: middle;\n",
       "    }\n",
       "\n",
       "    .dataframe tbody tr th {\n",
       "        vertical-align: top;\n",
       "    }\n",
       "\n",
       "    .dataframe thead th {\n",
       "        text-align: right;\n",
       "    }\n",
       "</style>\n",
       "<table border=\"1\" class=\"dataframe\">\n",
       "  <thead>\n",
       "    <tr style=\"text-align: right;\">\n",
       "      <th></th>\n",
       "      <th>Column1</th>\n",
       "      <th>Column2</th>\n",
       "      <th>Column3</th>\n",
       "      <th>Column4</th>\n",
       "    </tr>\n",
       "  </thead>\n",
       "  <tbody>\n",
       "    <tr>\n",
       "      <th>a</th>\n",
       "      <td>-1.828176</td>\n",
       "      <td>NaN</td>\n",
       "      <td>NaN</td>\n",
       "      <td>NaN</td>\n",
       "    </tr>\n",
       "    <tr>\n",
       "      <th>b</th>\n",
       "      <td>-0.387825</td>\n",
       "      <td>-0.021886</td>\n",
       "      <td>-1.544030</td>\n",
       "      <td>-0.397330</td>\n",
       "    </tr>\n",
       "    <tr>\n",
       "      <th>c</th>\n",
       "      <td>0.117369</td>\n",
       "      <td>-0.014371</td>\n",
       "      <td>-1.575668</td>\n",
       "      <td>-1.273715</td>\n",
       "    </tr>\n",
       "  </tbody>\n",
       "</table>\n",
       "</div>"
      ],
      "text/plain": [
       "    Column1   Column2   Column3   Column4\n",
       "a -1.828176       NaN       NaN       NaN\n",
       "b -0.387825 -0.021886 -1.544030 -0.397330\n",
       "c  0.117369 -0.014371 -1.575668 -1.273715"
      ]
     },
     "execution_count": 8,
     "metadata": {},
     "output_type": "execute_result"
    }
   ],
   "source": [
    "df[booleanDf]"
   ]
  },
  {
   "cell_type": "code",
   "execution_count": 9,
   "id": "69587b16",
   "metadata": {},
   "outputs": [
    {
     "data": {
      "text/plain": [
       "a   -1.828176\n",
       "b   -0.387825\n",
       "c    0.117369\n",
       "Name: Column1, dtype: float64"
      ]
     },
     "execution_count": 9,
     "metadata": {},
     "output_type": "execute_result"
    }
   ],
   "source": [
    "df[\"Column1\"]"
   ]
  },
  {
   "cell_type": "code",
   "execution_count": 10,
   "id": "040e2a65",
   "metadata": {},
   "outputs": [
    {
     "data": {
      "text/html": [
       "<div>\n",
       "<style scoped>\n",
       "    .dataframe tbody tr th:only-of-type {\n",
       "        vertical-align: middle;\n",
       "    }\n",
       "\n",
       "    .dataframe tbody tr th {\n",
       "        vertical-align: top;\n",
       "    }\n",
       "\n",
       "    .dataframe thead th {\n",
       "        text-align: right;\n",
       "    }\n",
       "</style>\n",
       "<table border=\"1\" class=\"dataframe\">\n",
       "  <thead>\n",
       "    <tr style=\"text-align: right;\">\n",
       "      <th></th>\n",
       "      <th>Column1</th>\n",
       "      <th>Column2</th>\n",
       "      <th>Column3</th>\n",
       "      <th>Column4</th>\n",
       "    </tr>\n",
       "  </thead>\n",
       "  <tbody>\n",
       "    <tr>\n",
       "      <th>a</th>\n",
       "      <td>-1.828176</td>\n",
       "      <td>0.868624</td>\n",
       "      <td>0.806492</td>\n",
       "      <td>0.77945</td>\n",
       "    </tr>\n",
       "  </tbody>\n",
       "</table>\n",
       "</div>"
      ],
      "text/plain": [
       "    Column1   Column2   Column3  Column4\n",
       "a -1.828176  0.868624  0.806492  0.77945"
      ]
     },
     "execution_count": 10,
     "metadata": {},
     "output_type": "execute_result"
    }
   ],
   "source": [
    "df[df[\"Column1\"] < -0.5]"
   ]
  },
  {
   "cell_type": "code",
   "execution_count": 11,
   "id": "67bfddb2",
   "metadata": {},
   "outputs": [
    {
     "data": {
      "text/html": [
       "<div>\n",
       "<style scoped>\n",
       "    .dataframe tbody tr th:only-of-type {\n",
       "        vertical-align: middle;\n",
       "    }\n",
       "\n",
       "    .dataframe tbody tr th {\n",
       "        vertical-align: top;\n",
       "    }\n",
       "\n",
       "    .dataframe thead th {\n",
       "        text-align: right;\n",
       "    }\n",
       "</style>\n",
       "<table border=\"1\" class=\"dataframe\">\n",
       "  <thead>\n",
       "    <tr style=\"text-align: right;\">\n",
       "      <th></th>\n",
       "      <th>Column1</th>\n",
       "      <th>Column2</th>\n",
       "      <th>Column3</th>\n",
       "      <th>Column4</th>\n",
       "    </tr>\n",
       "  </thead>\n",
       "  <tbody>\n",
       "    <tr>\n",
       "      <th>a</th>\n",
       "      <td>-1.828176</td>\n",
       "      <td>0.868624</td>\n",
       "      <td>0.806492</td>\n",
       "      <td>0.77945</td>\n",
       "    </tr>\n",
       "    <tr>\n",
       "      <th>b</th>\n",
       "      <td>-0.387825</td>\n",
       "      <td>-0.021886</td>\n",
       "      <td>-1.544030</td>\n",
       "      <td>-0.39733</td>\n",
       "    </tr>\n",
       "  </tbody>\n",
       "</table>\n",
       "</div>"
      ],
      "text/plain": [
       "    Column1   Column2   Column3  Column4\n",
       "a -1.828176  0.868624  0.806492  0.77945\n",
       "b -0.387825 -0.021886 -1.544030 -0.39733"
      ]
     },
     "execution_count": 11,
     "metadata": {},
     "output_type": "execute_result"
    }
   ],
   "source": [
    "df[df[\"Column1\"] < 0]"
   ]
  },
  {
   "cell_type": "code",
   "execution_count": 20,
   "id": "f9b728a8",
   "metadata": {},
   "outputs": [
    {
     "data": {
      "text/html": [
       "<div>\n",
       "<style scoped>\n",
       "    .dataframe tbody tr th:only-of-type {\n",
       "        vertical-align: middle;\n",
       "    }\n",
       "\n",
       "    .dataframe tbody tr th {\n",
       "        vertical-align: top;\n",
       "    }\n",
       "\n",
       "    .dataframe thead th {\n",
       "        text-align: right;\n",
       "    }\n",
       "</style>\n",
       "<table border=\"1\" class=\"dataframe\">\n",
       "  <thead>\n",
       "    <tr style=\"text-align: right;\">\n",
       "      <th></th>\n",
       "      <th>Column1</th>\n",
       "      <th>Column2</th>\n",
       "      <th>Column3</th>\n",
       "      <th>Column4</th>\n",
       "    </tr>\n",
       "  </thead>\n",
       "  <tbody>\n",
       "    <tr>\n",
       "      <th>c</th>\n",
       "      <td>0.117369</td>\n",
       "      <td>-0.014371</td>\n",
       "      <td>-1.575668</td>\n",
       "      <td>-1.273715</td>\n",
       "    </tr>\n",
       "  </tbody>\n",
       "</table>\n",
       "</div>"
      ],
      "text/plain": [
       "    Column1   Column2   Column3   Column4\n",
       "c  0.117369 -0.014371 -1.575668 -1.273715"
      ]
     },
     "execution_count": 20,
     "metadata": {},
     "output_type": "execute_result"
    }
   ],
   "source": [
    "df[(df[\"Column1\"] > 0) & (df[\"Column3\"] < 0)]"
   ]
  },
  {
   "cell_type": "code",
   "execution_count": 18,
   "id": "c2aba7f3",
   "metadata": {},
   "outputs": [
    {
     "data": {
      "text/html": [
       "<div>\n",
       "<style scoped>\n",
       "    .dataframe tbody tr th:only-of-type {\n",
       "        vertical-align: middle;\n",
       "    }\n",
       "\n",
       "    .dataframe tbody tr th {\n",
       "        vertical-align: top;\n",
       "    }\n",
       "\n",
       "    .dataframe thead th {\n",
       "        text-align: right;\n",
       "    }\n",
       "</style>\n",
       "<table border=\"1\" class=\"dataframe\">\n",
       "  <thead>\n",
       "    <tr style=\"text-align: right;\">\n",
       "      <th></th>\n",
       "      <th>Column1</th>\n",
       "      <th>Column2</th>\n",
       "      <th>Column3</th>\n",
       "      <th>Column4</th>\n",
       "    </tr>\n",
       "  </thead>\n",
       "  <tbody>\n",
       "    <tr>\n",
       "      <th>a</th>\n",
       "      <td>-1.828176</td>\n",
       "      <td>0.868624</td>\n",
       "      <td>0.806492</td>\n",
       "      <td>0.779450</td>\n",
       "    </tr>\n",
       "    <tr>\n",
       "      <th>b</th>\n",
       "      <td>-0.387825</td>\n",
       "      <td>-0.021886</td>\n",
       "      <td>-1.544030</td>\n",
       "      <td>-0.397330</td>\n",
       "    </tr>\n",
       "    <tr>\n",
       "      <th>c</th>\n",
       "      <td>0.117369</td>\n",
       "      <td>-0.014371</td>\n",
       "      <td>-1.575668</td>\n",
       "      <td>-1.273715</td>\n",
       "    </tr>\n",
       "  </tbody>\n",
       "</table>\n",
       "</div>"
      ],
      "text/plain": [
       "    Column1   Column2   Column3   Column4\n",
       "a -1.828176  0.868624  0.806492  0.779450\n",
       "b -0.387825 -0.021886 -1.544030 -0.397330\n",
       "c  0.117369 -0.014371 -1.575668 -1.273715"
      ]
     },
     "execution_count": 18,
     "metadata": {},
     "output_type": "execute_result"
    }
   ],
   "source": [
    "df"
   ]
  },
  {
   "cell_type": "code",
   "execution_count": 23,
   "id": "d45003a6",
   "metadata": {},
   "outputs": [
    {
     "data": {
      "text/html": [
       "<div>\n",
       "<style scoped>\n",
       "    .dataframe tbody tr th:only-of-type {\n",
       "        vertical-align: middle;\n",
       "    }\n",
       "\n",
       "    .dataframe tbody tr th {\n",
       "        vertical-align: top;\n",
       "    }\n",
       "\n",
       "    .dataframe thead th {\n",
       "        text-align: right;\n",
       "    }\n",
       "</style>\n",
       "<table border=\"1\" class=\"dataframe\">\n",
       "  <thead>\n",
       "    <tr style=\"text-align: right;\">\n",
       "      <th></th>\n",
       "      <th>Column1</th>\n",
       "      <th>Column2</th>\n",
       "      <th>Column3</th>\n",
       "      <th>Column4</th>\n",
       "    </tr>\n",
       "  </thead>\n",
       "  <tbody>\n",
       "    <tr>\n",
       "      <th>b</th>\n",
       "      <td>-0.387825</td>\n",
       "      <td>-0.021886</td>\n",
       "      <td>-1.544030</td>\n",
       "      <td>-0.397330</td>\n",
       "    </tr>\n",
       "    <tr>\n",
       "      <th>c</th>\n",
       "      <td>0.117369</td>\n",
       "      <td>-0.014371</td>\n",
       "      <td>-1.575668</td>\n",
       "      <td>-1.273715</td>\n",
       "    </tr>\n",
       "  </tbody>\n",
       "</table>\n",
       "</div>"
      ],
      "text/plain": [
       "    Column1   Column2   Column3   Column4\n",
       "b -0.387825 -0.021886 -1.544030 -0.397330\n",
       "c  0.117369 -0.014371 -1.575668 -1.273715"
      ]
     },
     "execution_count": 23,
     "metadata": {},
     "output_type": "execute_result"
    }
   ],
   "source": [
    "df[(df[\"Column1\"] > 0) | (df[\"Column3\"] < 0)]"
   ]
  },
  {
   "cell_type": "code",
   "execution_count": 24,
   "id": "942e2268",
   "metadata": {},
   "outputs": [
    {
     "data": {
      "text/html": [
       "<div>\n",
       "<style scoped>\n",
       "    .dataframe tbody tr th:only-of-type {\n",
       "        vertical-align: middle;\n",
       "    }\n",
       "\n",
       "    .dataframe tbody tr th {\n",
       "        vertical-align: top;\n",
       "    }\n",
       "\n",
       "    .dataframe thead th {\n",
       "        text-align: right;\n",
       "    }\n",
       "</style>\n",
       "<table border=\"1\" class=\"dataframe\">\n",
       "  <thead>\n",
       "    <tr style=\"text-align: right;\">\n",
       "      <th></th>\n",
       "      <th>Column1</th>\n",
       "      <th>Column2</th>\n",
       "      <th>Column3</th>\n",
       "      <th>Column4</th>\n",
       "    </tr>\n",
       "  </thead>\n",
       "  <tbody>\n",
       "    <tr>\n",
       "      <th>a</th>\n",
       "      <td>-1.828176</td>\n",
       "      <td>0.868624</td>\n",
       "      <td>0.806492</td>\n",
       "      <td>0.779450</td>\n",
       "    </tr>\n",
       "    <tr>\n",
       "      <th>b</th>\n",
       "      <td>-0.387825</td>\n",
       "      <td>-0.021886</td>\n",
       "      <td>-1.544030</td>\n",
       "      <td>-0.397330</td>\n",
       "    </tr>\n",
       "    <tr>\n",
       "      <th>c</th>\n",
       "      <td>0.117369</td>\n",
       "      <td>-0.014371</td>\n",
       "      <td>-1.575668</td>\n",
       "      <td>-1.273715</td>\n",
       "    </tr>\n",
       "  </tbody>\n",
       "</table>\n",
       "</div>"
      ],
      "text/plain": [
       "    Column1   Column2   Column3   Column4\n",
       "a -1.828176  0.868624  0.806492  0.779450\n",
       "b -0.387825 -0.021886 -1.544030 -0.397330\n",
       "c  0.117369 -0.014371 -1.575668 -1.273715"
      ]
     },
     "execution_count": 24,
     "metadata": {},
     "output_type": "execute_result"
    }
   ],
   "source": [
    "df"
   ]
  },
  {
   "cell_type": "code",
   "execution_count": 25,
   "id": "4e52848e",
   "metadata": {},
   "outputs": [],
   "source": [
    "df[\"Column5\"] =randn(3)"
   ]
  },
  {
   "cell_type": "code",
   "execution_count": 26,
   "id": "57d35ebe",
   "metadata": {},
   "outputs": [
    {
     "data": {
      "text/html": [
       "<div>\n",
       "<style scoped>\n",
       "    .dataframe tbody tr th:only-of-type {\n",
       "        vertical-align: middle;\n",
       "    }\n",
       "\n",
       "    .dataframe tbody tr th {\n",
       "        vertical-align: top;\n",
       "    }\n",
       "\n",
       "    .dataframe thead th {\n",
       "        text-align: right;\n",
       "    }\n",
       "</style>\n",
       "<table border=\"1\" class=\"dataframe\">\n",
       "  <thead>\n",
       "    <tr style=\"text-align: right;\">\n",
       "      <th></th>\n",
       "      <th>Column1</th>\n",
       "      <th>Column2</th>\n",
       "      <th>Column3</th>\n",
       "      <th>Column4</th>\n",
       "      <th>Column5</th>\n",
       "    </tr>\n",
       "  </thead>\n",
       "  <tbody>\n",
       "    <tr>\n",
       "      <th>a</th>\n",
       "      <td>-1.828176</td>\n",
       "      <td>0.868624</td>\n",
       "      <td>0.806492</td>\n",
       "      <td>0.779450</td>\n",
       "      <td>-1.315182</td>\n",
       "    </tr>\n",
       "    <tr>\n",
       "      <th>b</th>\n",
       "      <td>-0.387825</td>\n",
       "      <td>-0.021886</td>\n",
       "      <td>-1.544030</td>\n",
       "      <td>-0.397330</td>\n",
       "      <td>0.794940</td>\n",
       "    </tr>\n",
       "    <tr>\n",
       "      <th>c</th>\n",
       "      <td>0.117369</td>\n",
       "      <td>-0.014371</td>\n",
       "      <td>-1.575668</td>\n",
       "      <td>-1.273715</td>\n",
       "      <td>0.566828</td>\n",
       "    </tr>\n",
       "  </tbody>\n",
       "</table>\n",
       "</div>"
      ],
      "text/plain": [
       "    Column1   Column2   Column3   Column4   Column5\n",
       "a -1.828176  0.868624  0.806492  0.779450 -1.315182\n",
       "b -0.387825 -0.021886 -1.544030 -0.397330  0.794940\n",
       "c  0.117369 -0.014371 -1.575668 -1.273715  0.566828"
      ]
     },
     "execution_count": 26,
     "metadata": {},
     "output_type": "execute_result"
    }
   ],
   "source": [
    "df"
   ]
  },
  {
   "cell_type": "code",
   "execution_count": 27,
   "id": "5a99d8ab",
   "metadata": {},
   "outputs": [],
   "source": [
    "df[\"Satırlar\"]=[\"1.SATIR\",\"2.SATIR\",\"3.SATIR\"]"
   ]
  },
  {
   "cell_type": "code",
   "execution_count": 28,
   "id": "7f0a5c45",
   "metadata": {},
   "outputs": [
    {
     "data": {
      "text/html": [
       "<div>\n",
       "<style scoped>\n",
       "    .dataframe tbody tr th:only-of-type {\n",
       "        vertical-align: middle;\n",
       "    }\n",
       "\n",
       "    .dataframe tbody tr th {\n",
       "        vertical-align: top;\n",
       "    }\n",
       "\n",
       "    .dataframe thead th {\n",
       "        text-align: right;\n",
       "    }\n",
       "</style>\n",
       "<table border=\"1\" class=\"dataframe\">\n",
       "  <thead>\n",
       "    <tr style=\"text-align: right;\">\n",
       "      <th></th>\n",
       "      <th>Column1</th>\n",
       "      <th>Column2</th>\n",
       "      <th>Column3</th>\n",
       "      <th>Column4</th>\n",
       "      <th>Column5</th>\n",
       "      <th>Satırlar</th>\n",
       "    </tr>\n",
       "  </thead>\n",
       "  <tbody>\n",
       "    <tr>\n",
       "      <th>a</th>\n",
       "      <td>-1.828176</td>\n",
       "      <td>0.868624</td>\n",
       "      <td>0.806492</td>\n",
       "      <td>0.779450</td>\n",
       "      <td>-1.315182</td>\n",
       "      <td>1.SATIR</td>\n",
       "    </tr>\n",
       "    <tr>\n",
       "      <th>b</th>\n",
       "      <td>-0.387825</td>\n",
       "      <td>-0.021886</td>\n",
       "      <td>-1.544030</td>\n",
       "      <td>-0.397330</td>\n",
       "      <td>0.794940</td>\n",
       "      <td>2.SATIR</td>\n",
       "    </tr>\n",
       "    <tr>\n",
       "      <th>c</th>\n",
       "      <td>0.117369</td>\n",
       "      <td>-0.014371</td>\n",
       "      <td>-1.575668</td>\n",
       "      <td>-1.273715</td>\n",
       "      <td>0.566828</td>\n",
       "      <td>3.SATIR</td>\n",
       "    </tr>\n",
       "  </tbody>\n",
       "</table>\n",
       "</div>"
      ],
      "text/plain": [
       "    Column1   Column2   Column3   Column4   Column5 Satırlar\n",
       "a -1.828176  0.868624  0.806492  0.779450 -1.315182  1.SATIR\n",
       "b -0.387825 -0.021886 -1.544030 -0.397330  0.794940  2.SATIR\n",
       "c  0.117369 -0.014371 -1.575668 -1.273715  0.566828  3.SATIR"
      ]
     },
     "execution_count": 28,
     "metadata": {},
     "output_type": "execute_result"
    }
   ],
   "source": [
    "df"
   ]
  },
  {
   "cell_type": "code",
   "execution_count": 29,
   "id": "c5e78dcd",
   "metadata": {},
   "outputs": [
    {
     "data": {
      "text/html": [
       "<div>\n",
       "<style scoped>\n",
       "    .dataframe tbody tr th:only-of-type {\n",
       "        vertical-align: middle;\n",
       "    }\n",
       "\n",
       "    .dataframe tbody tr th {\n",
       "        vertical-align: top;\n",
       "    }\n",
       "\n",
       "    .dataframe thead th {\n",
       "        text-align: right;\n",
       "    }\n",
       "</style>\n",
       "<table border=\"1\" class=\"dataframe\">\n",
       "  <thead>\n",
       "    <tr style=\"text-align: right;\">\n",
       "      <th></th>\n",
       "      <th>Column1</th>\n",
       "      <th>Column2</th>\n",
       "      <th>Column3</th>\n",
       "      <th>Column4</th>\n",
       "      <th>Column5</th>\n",
       "    </tr>\n",
       "    <tr>\n",
       "      <th>Satırlar</th>\n",
       "      <th></th>\n",
       "      <th></th>\n",
       "      <th></th>\n",
       "      <th></th>\n",
       "      <th></th>\n",
       "    </tr>\n",
       "  </thead>\n",
       "  <tbody>\n",
       "    <tr>\n",
       "      <th>1.SATIR</th>\n",
       "      <td>-1.828176</td>\n",
       "      <td>0.868624</td>\n",
       "      <td>0.806492</td>\n",
       "      <td>0.779450</td>\n",
       "      <td>-1.315182</td>\n",
       "    </tr>\n",
       "    <tr>\n",
       "      <th>2.SATIR</th>\n",
       "      <td>-0.387825</td>\n",
       "      <td>-0.021886</td>\n",
       "      <td>-1.544030</td>\n",
       "      <td>-0.397330</td>\n",
       "      <td>0.794940</td>\n",
       "    </tr>\n",
       "    <tr>\n",
       "      <th>3.SATIR</th>\n",
       "      <td>0.117369</td>\n",
       "      <td>-0.014371</td>\n",
       "      <td>-1.575668</td>\n",
       "      <td>-1.273715</td>\n",
       "      <td>0.566828</td>\n",
       "    </tr>\n",
       "  </tbody>\n",
       "</table>\n",
       "</div>"
      ],
      "text/plain": [
       "           Column1   Column2   Column3   Column4   Column5\n",
       "Satırlar                                                  \n",
       "1.SATIR  -1.828176  0.868624  0.806492  0.779450 -1.315182\n",
       "2.SATIR  -0.387825 -0.021886 -1.544030 -0.397330  0.794940\n",
       "3.SATIR   0.117369 -0.014371 -1.575668 -1.273715  0.566828"
      ]
     },
     "execution_count": 29,
     "metadata": {},
     "output_type": "execute_result"
    }
   ],
   "source": [
    "df.set_index(\"Satırlar\")"
   ]
  },
  {
   "cell_type": "code",
   "execution_count": 30,
   "id": "9946361c",
   "metadata": {},
   "outputs": [
    {
     "data": {
      "text/html": [
       "<div>\n",
       "<style scoped>\n",
       "    .dataframe tbody tr th:only-of-type {\n",
       "        vertical-align: middle;\n",
       "    }\n",
       "\n",
       "    .dataframe tbody tr th {\n",
       "        vertical-align: top;\n",
       "    }\n",
       "\n",
       "    .dataframe thead th {\n",
       "        text-align: right;\n",
       "    }\n",
       "</style>\n",
       "<table border=\"1\" class=\"dataframe\">\n",
       "  <thead>\n",
       "    <tr style=\"text-align: right;\">\n",
       "      <th></th>\n",
       "      <th>Column1</th>\n",
       "      <th>Column2</th>\n",
       "      <th>Column3</th>\n",
       "      <th>Column4</th>\n",
       "      <th>Column5</th>\n",
       "      <th>Satırlar</th>\n",
       "    </tr>\n",
       "  </thead>\n",
       "  <tbody>\n",
       "    <tr>\n",
       "      <th>a</th>\n",
       "      <td>-1.828176</td>\n",
       "      <td>0.868624</td>\n",
       "      <td>0.806492</td>\n",
       "      <td>0.779450</td>\n",
       "      <td>-1.315182</td>\n",
       "      <td>1.SATIR</td>\n",
       "    </tr>\n",
       "    <tr>\n",
       "      <th>b</th>\n",
       "      <td>-0.387825</td>\n",
       "      <td>-0.021886</td>\n",
       "      <td>-1.544030</td>\n",
       "      <td>-0.397330</td>\n",
       "      <td>0.794940</td>\n",
       "      <td>2.SATIR</td>\n",
       "    </tr>\n",
       "    <tr>\n",
       "      <th>c</th>\n",
       "      <td>0.117369</td>\n",
       "      <td>-0.014371</td>\n",
       "      <td>-1.575668</td>\n",
       "      <td>-1.273715</td>\n",
       "      <td>0.566828</td>\n",
       "      <td>3.SATIR</td>\n",
       "    </tr>\n",
       "  </tbody>\n",
       "</table>\n",
       "</div>"
      ],
      "text/plain": [
       "    Column1   Column2   Column3   Column4   Column5 Satırlar\n",
       "a -1.828176  0.868624  0.806492  0.779450 -1.315182  1.SATIR\n",
       "b -0.387825 -0.021886 -1.544030 -0.397330  0.794940  2.SATIR\n",
       "c  0.117369 -0.014371 -1.575668 -1.273715  0.566828  3.SATIR"
      ]
     },
     "execution_count": 30,
     "metadata": {},
     "output_type": "execute_result"
    }
   ],
   "source": [
    "df"
   ]
  },
  {
   "cell_type": "code",
   "execution_count": 32,
   "id": "83b815be",
   "metadata": {},
   "outputs": [],
   "source": [
    "df.set_index(\"Satırlar\",inplace=True)"
   ]
  },
  {
   "cell_type": "code",
   "execution_count": 33,
   "id": "c139e19b",
   "metadata": {},
   "outputs": [
    {
     "data": {
      "text/html": [
       "<div>\n",
       "<style scoped>\n",
       "    .dataframe tbody tr th:only-of-type {\n",
       "        vertical-align: middle;\n",
       "    }\n",
       "\n",
       "    .dataframe tbody tr th {\n",
       "        vertical-align: top;\n",
       "    }\n",
       "\n",
       "    .dataframe thead th {\n",
       "        text-align: right;\n",
       "    }\n",
       "</style>\n",
       "<table border=\"1\" class=\"dataframe\">\n",
       "  <thead>\n",
       "    <tr style=\"text-align: right;\">\n",
       "      <th></th>\n",
       "      <th>Column1</th>\n",
       "      <th>Column2</th>\n",
       "      <th>Column3</th>\n",
       "      <th>Column4</th>\n",
       "      <th>Column5</th>\n",
       "    </tr>\n",
       "    <tr>\n",
       "      <th>Satırlar</th>\n",
       "      <th></th>\n",
       "      <th></th>\n",
       "      <th></th>\n",
       "      <th></th>\n",
       "      <th></th>\n",
       "    </tr>\n",
       "  </thead>\n",
       "  <tbody>\n",
       "    <tr>\n",
       "      <th>1.SATIR</th>\n",
       "      <td>-1.828176</td>\n",
       "      <td>0.868624</td>\n",
       "      <td>0.806492</td>\n",
       "      <td>0.779450</td>\n",
       "      <td>-1.315182</td>\n",
       "    </tr>\n",
       "    <tr>\n",
       "      <th>2.SATIR</th>\n",
       "      <td>-0.387825</td>\n",
       "      <td>-0.021886</td>\n",
       "      <td>-1.544030</td>\n",
       "      <td>-0.397330</td>\n",
       "      <td>0.794940</td>\n",
       "    </tr>\n",
       "    <tr>\n",
       "      <th>3.SATIR</th>\n",
       "      <td>0.117369</td>\n",
       "      <td>-0.014371</td>\n",
       "      <td>-1.575668</td>\n",
       "      <td>-1.273715</td>\n",
       "      <td>0.566828</td>\n",
       "    </tr>\n",
       "  </tbody>\n",
       "</table>\n",
       "</div>"
      ],
      "text/plain": [
       "           Column1   Column2   Column3   Column4   Column5\n",
       "Satırlar                                                  \n",
       "1.SATIR  -1.828176  0.868624  0.806492  0.779450 -1.315182\n",
       "2.SATIR  -0.387825 -0.021886 -1.544030 -0.397330  0.794940\n",
       "3.SATIR   0.117369 -0.014371 -1.575668 -1.273715  0.566828"
      ]
     },
     "execution_count": 33,
     "metadata": {},
     "output_type": "execute_result"
    }
   ],
   "source": [
    "df"
   ]
  },
  {
   "cell_type": "code",
   "execution_count": 39,
   "id": "f4967d38",
   "metadata": {},
   "outputs": [],
   "source": [
    "df.set_axis([\"1.SÜTUN\",\"2. SÜTUN\",\"3.sÜTUN\",\"4.sÜTUN\",\"5.sÜTUN\"],axis='columns',inplace=True)"
   ]
  },
  {
   "cell_type": "code",
   "execution_count": 40,
   "id": "1da5f302",
   "metadata": {},
   "outputs": [
    {
     "data": {
      "text/html": [
       "<div>\n",
       "<style scoped>\n",
       "    .dataframe tbody tr th:only-of-type {\n",
       "        vertical-align: middle;\n",
       "    }\n",
       "\n",
       "    .dataframe tbody tr th {\n",
       "        vertical-align: top;\n",
       "    }\n",
       "\n",
       "    .dataframe thead th {\n",
       "        text-align: right;\n",
       "    }\n",
       "</style>\n",
       "<table border=\"1\" class=\"dataframe\">\n",
       "  <thead>\n",
       "    <tr style=\"text-align: right;\">\n",
       "      <th></th>\n",
       "      <th>1.SÜTUN</th>\n",
       "      <th>2. SÜTUN</th>\n",
       "      <th>3.sÜTUN</th>\n",
       "      <th>4.sÜTUN</th>\n",
       "      <th>5.sÜTUN</th>\n",
       "    </tr>\n",
       "    <tr>\n",
       "      <th>Satırlar</th>\n",
       "      <th></th>\n",
       "      <th></th>\n",
       "      <th></th>\n",
       "      <th></th>\n",
       "      <th></th>\n",
       "    </tr>\n",
       "  </thead>\n",
       "  <tbody>\n",
       "    <tr>\n",
       "      <th>1.SATIR</th>\n",
       "      <td>-1.828176</td>\n",
       "      <td>0.868624</td>\n",
       "      <td>0.806492</td>\n",
       "      <td>0.779450</td>\n",
       "      <td>-1.315182</td>\n",
       "    </tr>\n",
       "    <tr>\n",
       "      <th>2.SATIR</th>\n",
       "      <td>-0.387825</td>\n",
       "      <td>-0.021886</td>\n",
       "      <td>-1.544030</td>\n",
       "      <td>-0.397330</td>\n",
       "      <td>0.794940</td>\n",
       "    </tr>\n",
       "    <tr>\n",
       "      <th>3.SATIR</th>\n",
       "      <td>0.117369</td>\n",
       "      <td>-0.014371</td>\n",
       "      <td>-1.575668</td>\n",
       "      <td>-1.273715</td>\n",
       "      <td>0.566828</td>\n",
       "    </tr>\n",
       "  </tbody>\n",
       "</table>\n",
       "</div>"
      ],
      "text/plain": [
       "           1.SÜTUN  2. SÜTUN   3.sÜTUN   4.sÜTUN   5.sÜTUN\n",
       "Satırlar                                                  \n",
       "1.SATIR  -1.828176  0.868624  0.806492  0.779450 -1.315182\n",
       "2.SATIR  -0.387825 -0.021886 -1.544030 -0.397330  0.794940\n",
       "3.SATIR   0.117369 -0.014371 -1.575668 -1.273715  0.566828"
      ]
     },
     "execution_count": 40,
     "metadata": {},
     "output_type": "execute_result"
    }
   ],
   "source": [
    "df"
   ]
  },
  {
   "cell_type": "code",
   "execution_count": 41,
   "id": "c232dee3",
   "metadata": {},
   "outputs": [
    {
     "data": {
      "text/plain": [
       "'Satırlar'"
      ]
     },
     "execution_count": 41,
     "metadata": {},
     "output_type": "execute_result"
    }
   ],
   "source": [
    "df.index.name"
   ]
  },
  {
   "cell_type": "code",
   "execution_count": 46,
   "id": "a37288cc",
   "metadata": {},
   "outputs": [
    {
     "data": {
      "text/html": [
       "<div>\n",
       "<style scoped>\n",
       "    .dataframe tbody tr th:only-of-type {\n",
       "        vertical-align: middle;\n",
       "    }\n",
       "\n",
       "    .dataframe tbody tr th {\n",
       "        vertical-align: top;\n",
       "    }\n",
       "\n",
       "    .dataframe thead th {\n",
       "        text-align: right;\n",
       "    }\n",
       "</style>\n",
       "<table border=\"1\" class=\"dataframe\">\n",
       "  <thead>\n",
       "    <tr style=\"text-align: right;\">\n",
       "      <th>Sütunlar</th>\n",
       "      <th>1.SÜTUN</th>\n",
       "      <th>2. SÜTUN</th>\n",
       "      <th>3.sÜTUN</th>\n",
       "      <th>4.sÜTUN</th>\n",
       "      <th>5.sÜTUN</th>\n",
       "    </tr>\n",
       "    <tr>\n",
       "      <th>Satırlar</th>\n",
       "      <th></th>\n",
       "      <th></th>\n",
       "      <th></th>\n",
       "      <th></th>\n",
       "      <th></th>\n",
       "    </tr>\n",
       "  </thead>\n",
       "  <tbody>\n",
       "    <tr>\n",
       "      <th>1.SATIR</th>\n",
       "      <td>-1.828176</td>\n",
       "      <td>0.868624</td>\n",
       "      <td>0.806492</td>\n",
       "      <td>0.779450</td>\n",
       "      <td>-1.315182</td>\n",
       "    </tr>\n",
       "    <tr>\n",
       "      <th>2.SATIR</th>\n",
       "      <td>-0.387825</td>\n",
       "      <td>-0.021886</td>\n",
       "      <td>-1.544030</td>\n",
       "      <td>-0.397330</td>\n",
       "      <td>0.794940</td>\n",
       "    </tr>\n",
       "    <tr>\n",
       "      <th>3.SATIR</th>\n",
       "      <td>0.117369</td>\n",
       "      <td>-0.014371</td>\n",
       "      <td>-1.575668</td>\n",
       "      <td>-1.273715</td>\n",
       "      <td>0.566828</td>\n",
       "    </tr>\n",
       "  </tbody>\n",
       "</table>\n",
       "</div>"
      ],
      "text/plain": [
       "Sütunlar   1.SÜTUN  2. SÜTUN   3.sÜTUN   4.sÜTUN   5.sÜTUN\n",
       "Satırlar                                                  \n",
       "1.SATIR  -1.828176  0.868624  0.806492  0.779450 -1.315182\n",
       "2.SATIR  -0.387825 -0.021886 -1.544030 -0.397330  0.794940\n",
       "3.SATIR   0.117369 -0.014371 -1.575668 -1.273715  0.566828"
      ]
     },
     "execution_count": 46,
     "metadata": {},
     "output_type": "execute_result"
    }
   ],
   "source": [
    "df.rename_axis(\"Sütunlar\",axis='columns')"
   ]
  },
  {
   "cell_type": "code",
   "execution_count": 48,
   "id": "2860f8ff",
   "metadata": {},
   "outputs": [
    {
     "data": {
      "text/html": [
       "<div>\n",
       "<style scoped>\n",
       "    .dataframe tbody tr th:only-of-type {\n",
       "        vertical-align: middle;\n",
       "    }\n",
       "\n",
       "    .dataframe tbody tr th {\n",
       "        vertical-align: top;\n",
       "    }\n",
       "\n",
       "    .dataframe thead th {\n",
       "        text-align: right;\n",
       "    }\n",
       "</style>\n",
       "<table border=\"1\" class=\"dataframe\">\n",
       "  <thead>\n",
       "    <tr style=\"text-align: right;\">\n",
       "      <th></th>\n",
       "      <th>1.SÜTUN</th>\n",
       "      <th>2. SÜTUN</th>\n",
       "      <th>3.sÜTUN</th>\n",
       "      <th>4.sÜTUN</th>\n",
       "      <th>5.sÜTUN</th>\n",
       "    </tr>\n",
       "    <tr>\n",
       "      <th>Satırlar</th>\n",
       "      <th></th>\n",
       "      <th></th>\n",
       "      <th></th>\n",
       "      <th></th>\n",
       "      <th></th>\n",
       "    </tr>\n",
       "  </thead>\n",
       "  <tbody>\n",
       "    <tr>\n",
       "      <th>2.SATIR</th>\n",
       "      <td>-0.387825</td>\n",
       "      <td>-0.021886</td>\n",
       "      <td>-1.544030</td>\n",
       "      <td>-0.397330</td>\n",
       "      <td>0.794940</td>\n",
       "    </tr>\n",
       "    <tr>\n",
       "      <th>3.SATIR</th>\n",
       "      <td>0.117369</td>\n",
       "      <td>-0.014371</td>\n",
       "      <td>-1.575668</td>\n",
       "      <td>-1.273715</td>\n",
       "      <td>0.566828</td>\n",
       "    </tr>\n",
       "  </tbody>\n",
       "</table>\n",
       "</div>"
      ],
      "text/plain": [
       "           1.SÜTUN  2. SÜTUN   3.sÜTUN   4.sÜTUN   5.sÜTUN\n",
       "Satırlar                                                  \n",
       "2.SATIR  -0.387825 -0.021886 -1.544030 -0.397330  0.794940\n",
       "3.SATIR   0.117369 -0.014371 -1.575668 -1.273715  0.566828"
      ]
     },
     "execution_count": 48,
     "metadata": {},
     "output_type": "execute_result"
    }
   ],
   "source": [
    "df[(df[\"1.SÜTUN\"] > 0) | (df[\"3.sÜTUN\"] < 0)]"
   ]
  },
  {
   "cell_type": "code",
   "execution_count": 49,
   "id": "1bf5b68f",
   "metadata": {},
   "outputs": [],
   "source": [
    "df2=df[(df[\"1.SÜTUN\"] > 0) | (df[\"3.sÜTUN\"] < 0)]"
   ]
  },
  {
   "cell_type": "code",
   "execution_count": 50,
   "id": "f1565960",
   "metadata": {},
   "outputs": [
    {
     "data": {
      "text/html": [
       "<div>\n",
       "<style scoped>\n",
       "    .dataframe tbody tr th:only-of-type {\n",
       "        vertical-align: middle;\n",
       "    }\n",
       "\n",
       "    .dataframe tbody tr th {\n",
       "        vertical-align: top;\n",
       "    }\n",
       "\n",
       "    .dataframe thead th {\n",
       "        text-align: right;\n",
       "    }\n",
       "</style>\n",
       "<table border=\"1\" class=\"dataframe\">\n",
       "  <thead>\n",
       "    <tr style=\"text-align: right;\">\n",
       "      <th></th>\n",
       "      <th>1.SÜTUN</th>\n",
       "      <th>2. SÜTUN</th>\n",
       "      <th>3.sÜTUN</th>\n",
       "      <th>4.sÜTUN</th>\n",
       "      <th>5.sÜTUN</th>\n",
       "    </tr>\n",
       "    <tr>\n",
       "      <th>Satırlar</th>\n",
       "      <th></th>\n",
       "      <th></th>\n",
       "      <th></th>\n",
       "      <th></th>\n",
       "      <th></th>\n",
       "    </tr>\n",
       "  </thead>\n",
       "  <tbody>\n",
       "    <tr>\n",
       "      <th>2.SATIR</th>\n",
       "      <td>-0.387825</td>\n",
       "      <td>-0.021886</td>\n",
       "      <td>-1.544030</td>\n",
       "      <td>-0.397330</td>\n",
       "      <td>0.794940</td>\n",
       "    </tr>\n",
       "    <tr>\n",
       "      <th>3.SATIR</th>\n",
       "      <td>0.117369</td>\n",
       "      <td>-0.014371</td>\n",
       "      <td>-1.575668</td>\n",
       "      <td>-1.273715</td>\n",
       "      <td>0.566828</td>\n",
       "    </tr>\n",
       "  </tbody>\n",
       "</table>\n",
       "</div>"
      ],
      "text/plain": [
       "           1.SÜTUN  2. SÜTUN   3.sÜTUN   4.sÜTUN   5.sÜTUN\n",
       "Satırlar                                                  \n",
       "2.SATIR  -0.387825 -0.021886 -1.544030 -0.397330  0.794940\n",
       "3.SATIR   0.117369 -0.014371 -1.575668 -1.273715  0.566828"
      ]
     },
     "execution_count": 50,
     "metadata": {},
     "output_type": "execute_result"
    }
   ],
   "source": [
    "df2"
   ]
  },
  {
   "cell_type": "code",
   "execution_count": 51,
   "id": "bb5bb79c",
   "metadata": {},
   "outputs": [
    {
     "data": {
      "text/html": [
       "<div>\n",
       "<style scoped>\n",
       "    .dataframe tbody tr th:only-of-type {\n",
       "        vertical-align: middle;\n",
       "    }\n",
       "\n",
       "    .dataframe tbody tr th {\n",
       "        vertical-align: top;\n",
       "    }\n",
       "\n",
       "    .dataframe thead th {\n",
       "        text-align: right;\n",
       "    }\n",
       "</style>\n",
       "<table border=\"1\" class=\"dataframe\">\n",
       "  <thead>\n",
       "    <tr style=\"text-align: right;\">\n",
       "      <th></th>\n",
       "      <th>1.SÜTUN</th>\n",
       "      <th>2. SÜTUN</th>\n",
       "      <th>3.sÜTUN</th>\n",
       "      <th>4.sÜTUN</th>\n",
       "      <th>5.sÜTUN</th>\n",
       "    </tr>\n",
       "    <tr>\n",
       "      <th>Satırlar</th>\n",
       "      <th></th>\n",
       "      <th></th>\n",
       "      <th></th>\n",
       "      <th></th>\n",
       "      <th></th>\n",
       "    </tr>\n",
       "  </thead>\n",
       "  <tbody>\n",
       "    <tr>\n",
       "      <th>1.SATIR</th>\n",
       "      <td>NaN</td>\n",
       "      <td>NaN</td>\n",
       "      <td>NaN</td>\n",
       "      <td>NaN</td>\n",
       "      <td>NaN</td>\n",
       "    </tr>\n",
       "    <tr>\n",
       "      <th>2.SATIR</th>\n",
       "      <td>-0.775649</td>\n",
       "      <td>-0.043773</td>\n",
       "      <td>-3.088059</td>\n",
       "      <td>-0.794659</td>\n",
       "      <td>1.589881</td>\n",
       "    </tr>\n",
       "    <tr>\n",
       "      <th>3.SATIR</th>\n",
       "      <td>0.234738</td>\n",
       "      <td>-0.028741</td>\n",
       "      <td>-3.151336</td>\n",
       "      <td>-2.547429</td>\n",
       "      <td>1.133655</td>\n",
       "    </tr>\n",
       "  </tbody>\n",
       "</table>\n",
       "</div>"
      ],
      "text/plain": [
       "           1.SÜTUN  2. SÜTUN   3.sÜTUN   4.sÜTUN   5.sÜTUN\n",
       "Satırlar                                                  \n",
       "1.SATIR        NaN       NaN       NaN       NaN       NaN\n",
       "2.SATIR  -0.775649 -0.043773 -3.088059 -0.794659  1.589881\n",
       "3.SATIR   0.234738 -0.028741 -3.151336 -2.547429  1.133655"
      ]
     },
     "execution_count": 51,
     "metadata": {},
     "output_type": "execute_result"
    }
   ],
   "source": [
    "df+df2"
   ]
  },
  {
   "cell_type": "code",
   "execution_count": null,
   "id": "b7cee748",
   "metadata": {},
   "outputs": [],
   "source": []
  },
  {
   "cell_type": "code",
   "execution_count": null,
   "id": "bc536b44",
   "metadata": {},
   "outputs": [],
   "source": []
  },
  {
   "cell_type": "code",
   "execution_count": null,
   "id": "b083ee24",
   "metadata": {},
   "outputs": [],
   "source": []
  },
  {
   "cell_type": "code",
   "execution_count": null,
   "id": "8e58c330",
   "metadata": {},
   "outputs": [],
   "source": []
  },
  {
   "cell_type": "code",
   "execution_count": null,
   "id": "63714e8d",
   "metadata": {},
   "outputs": [],
   "source": []
  },
  {
   "cell_type": "code",
   "execution_count": null,
   "id": "dde84004",
   "metadata": {},
   "outputs": [],
   "source": []
  }
 ],
 "metadata": {
  "kernelspec": {
   "display_name": "Python 3",
   "language": "python",
   "name": "python3"
  },
  "language_info": {
   "codemirror_mode": {
    "name": "ipython",
    "version": 3
   },
   "file_extension": ".py",
   "mimetype": "text/x-python",
   "name": "python",
   "nbconvert_exporter": "python",
   "pygments_lexer": "ipython3",
   "version": "3.8.8"
  }
 },
 "nbformat": 4,
 "nbformat_minor": 5
}
