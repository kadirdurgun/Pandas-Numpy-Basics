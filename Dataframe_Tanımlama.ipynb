{
 "cells": [
  {
   "cell_type": "code",
   "execution_count": 1,
   "id": "b03d9371",
   "metadata": {},
   "outputs": [],
   "source": [
    "import numpy as np\n",
    "import pandas as pd"
   ]
  },
  {
   "cell_type": "code",
   "execution_count": 4,
   "id": "d8c1b5ec",
   "metadata": {},
   "outputs": [],
   "source": [
    "from numpy.random import randn"
   ]
  },
  {
   "cell_type": "code",
   "execution_count": 9,
   "id": "cc189b80",
   "metadata": {},
   "outputs": [],
   "source": [
    "arr =randn(3,3)"
   ]
  },
  {
   "cell_type": "code",
   "execution_count": 10,
   "id": "c71189e4",
   "metadata": {},
   "outputs": [
    {
     "data": {
      "text/plain": [
       "array([[ 0.09736735,  1.38521564,  0.77112713],\n",
       "       [-1.77440253,  0.51376902,  0.83959818],\n",
       "       [-0.65314473,  0.30498713,  0.04183972]])"
      ]
     },
     "execution_count": 10,
     "metadata": {},
     "output_type": "execute_result"
    }
   ],
   "source": [
    "arr\n"
   ]
  },
  {
   "cell_type": "code",
   "execution_count": 14,
   "id": "4a0bb06b",
   "metadata": {},
   "outputs": [],
   "source": [
    "df = pd.DataFrame(arr,[\"insan\",\"bitki\",\"hayvan\"])"
   ]
  },
  {
   "cell_type": "code",
   "execution_count": 15,
   "id": "15f41f3b",
   "metadata": {},
   "outputs": [
    {
     "data": {
      "text/html": [
       "<div>\n",
       "<style scoped>\n",
       "    .dataframe tbody tr th:only-of-type {\n",
       "        vertical-align: middle;\n",
       "    }\n",
       "\n",
       "    .dataframe tbody tr th {\n",
       "        vertical-align: top;\n",
       "    }\n",
       "\n",
       "    .dataframe thead th {\n",
       "        text-align: right;\n",
       "    }\n",
       "</style>\n",
       "<table border=\"1\" class=\"dataframe\">\n",
       "  <thead>\n",
       "    <tr style=\"text-align: right;\">\n",
       "      <th></th>\n",
       "      <th>0</th>\n",
       "      <th>1</th>\n",
       "      <th>2</th>\n",
       "    </tr>\n",
       "  </thead>\n",
       "  <tbody>\n",
       "    <tr>\n",
       "      <th>insan</th>\n",
       "      <td>0.097367</td>\n",
       "      <td>1.385216</td>\n",
       "      <td>0.771127</td>\n",
       "    </tr>\n",
       "    <tr>\n",
       "      <th>bitki</th>\n",
       "      <td>-1.774403</td>\n",
       "      <td>0.513769</td>\n",
       "      <td>0.839598</td>\n",
       "    </tr>\n",
       "    <tr>\n",
       "      <th>hayvan</th>\n",
       "      <td>-0.653145</td>\n",
       "      <td>0.304987</td>\n",
       "      <td>0.041840</td>\n",
       "    </tr>\n",
       "  </tbody>\n",
       "</table>\n",
       "</div>"
      ],
      "text/plain": [
       "               0         1         2\n",
       "insan   0.097367  1.385216  0.771127\n",
       "bitki  -1.774403  0.513769  0.839598\n",
       "hayvan -0.653145  0.304987  0.041840"
      ]
     },
     "execution_count": 15,
     "metadata": {},
     "output_type": "execute_result"
    }
   ],
   "source": [
    "df"
   ]
  },
  {
   "cell_type": "code",
   "execution_count": 16,
   "id": "23247dd0",
   "metadata": {},
   "outputs": [],
   "source": [
    "df.columns=[\"Covid-19\",\"HIV\",\"Verem\"]"
   ]
  },
  {
   "cell_type": "code",
   "execution_count": 17,
   "id": "1bb8c776",
   "metadata": {},
   "outputs": [
    {
     "data": {
      "text/html": [
       "<div>\n",
       "<style scoped>\n",
       "    .dataframe tbody tr th:only-of-type {\n",
       "        vertical-align: middle;\n",
       "    }\n",
       "\n",
       "    .dataframe tbody tr th {\n",
       "        vertical-align: top;\n",
       "    }\n",
       "\n",
       "    .dataframe thead th {\n",
       "        text-align: right;\n",
       "    }\n",
       "</style>\n",
       "<table border=\"1\" class=\"dataframe\">\n",
       "  <thead>\n",
       "    <tr style=\"text-align: right;\">\n",
       "      <th></th>\n",
       "      <th>Covid-19</th>\n",
       "      <th>HIV</th>\n",
       "      <th>Verem</th>\n",
       "    </tr>\n",
       "  </thead>\n",
       "  <tbody>\n",
       "    <tr>\n",
       "      <th>insan</th>\n",
       "      <td>0.097367</td>\n",
       "      <td>1.385216</td>\n",
       "      <td>0.771127</td>\n",
       "    </tr>\n",
       "    <tr>\n",
       "      <th>bitki</th>\n",
       "      <td>-1.774403</td>\n",
       "      <td>0.513769</td>\n",
       "      <td>0.839598</td>\n",
       "    </tr>\n",
       "    <tr>\n",
       "      <th>hayvan</th>\n",
       "      <td>-0.653145</td>\n",
       "      <td>0.304987</td>\n",
       "      <td>0.041840</td>\n",
       "    </tr>\n",
       "  </tbody>\n",
       "</table>\n",
       "</div>"
      ],
      "text/plain": [
       "        Covid-19       HIV     Verem\n",
       "insan   0.097367  1.385216  0.771127\n",
       "bitki  -1.774403  0.513769  0.839598\n",
       "hayvan -0.653145  0.304987  0.041840"
      ]
     },
     "execution_count": 17,
     "metadata": {},
     "output_type": "execute_result"
    }
   ],
   "source": [
    "df"
   ]
  },
  {
   "cell_type": "code",
   "execution_count": 18,
   "id": "a888696a",
   "metadata": {},
   "outputs": [
    {
     "data": {
      "text/plain": [
       "insan     0.771127\n",
       "bitki     0.839598\n",
       "hayvan    0.041840\n",
       "Name: Verem, dtype: float64"
      ]
     },
     "execution_count": 18,
     "metadata": {},
     "output_type": "execute_result"
    }
   ],
   "source": [
    "df[\"Verem\"]"
   ]
  },
  {
   "cell_type": "code",
   "execution_count": 22,
   "id": "16fc1e76",
   "metadata": {},
   "outputs": [
    {
     "data": {
      "text/plain": [
       "Covid-19    0.097367\n",
       "HIV         1.385216\n",
       "Verem       0.771127\n",
       "Name: insan, dtype: float64"
      ]
     },
     "execution_count": 22,
     "metadata": {},
     "output_type": "execute_result"
    }
   ],
   "source": [
    "df.loc[\"insan\"]"
   ]
  },
  {
   "cell_type": "code",
   "execution_count": 23,
   "id": "dcfc10d1",
   "metadata": {},
   "outputs": [
    {
     "data": {
      "text/plain": [
       "insan     1.385216\n",
       "bitki     0.513769\n",
       "hayvan    0.304987\n",
       "Name: HIV, dtype: float64"
      ]
     },
     "execution_count": 23,
     "metadata": {},
     "output_type": "execute_result"
    }
   ],
   "source": [
    "df[\"HIV\"]"
   ]
  },
  {
   "cell_type": "code",
   "execution_count": 25,
   "id": "9aba54c1",
   "metadata": {},
   "outputs": [
    {
     "data": {
      "text/html": [
       "<div>\n",
       "<style scoped>\n",
       "    .dataframe tbody tr th:only-of-type {\n",
       "        vertical-align: middle;\n",
       "    }\n",
       "\n",
       "    .dataframe tbody tr th {\n",
       "        vertical-align: top;\n",
       "    }\n",
       "\n",
       "    .dataframe thead th {\n",
       "        text-align: right;\n",
       "    }\n",
       "</style>\n",
       "<table border=\"1\" class=\"dataframe\">\n",
       "  <thead>\n",
       "    <tr style=\"text-align: right;\">\n",
       "      <th></th>\n",
       "      <th>HIV</th>\n",
       "      <th>Covid-19</th>\n",
       "    </tr>\n",
       "  </thead>\n",
       "  <tbody>\n",
       "    <tr>\n",
       "      <th>insan</th>\n",
       "      <td>1.385216</td>\n",
       "      <td>0.097367</td>\n",
       "    </tr>\n",
       "    <tr>\n",
       "      <th>bitki</th>\n",
       "      <td>0.513769</td>\n",
       "      <td>-1.774403</td>\n",
       "    </tr>\n",
       "    <tr>\n",
       "      <th>hayvan</th>\n",
       "      <td>0.304987</td>\n",
       "      <td>-0.653145</td>\n",
       "    </tr>\n",
       "  </tbody>\n",
       "</table>\n",
       "</div>"
      ],
      "text/plain": [
       "             HIV  Covid-19\n",
       "insan   1.385216  0.097367\n",
       "bitki   0.513769 -1.774403\n",
       "hayvan  0.304987 -0.653145"
      ]
     },
     "execution_count": 25,
     "metadata": {},
     "output_type": "execute_result"
    }
   ],
   "source": [
    "df[[\"HIV\",\"Covid-19\"]]"
   ]
  },
  {
   "cell_type": "code",
   "execution_count": 27,
   "id": "f83d9550",
   "metadata": {},
   "outputs": [],
   "source": [
    "df[\"Hepatit-A\"] = pd.Series(randn(3),[\"insan\",\"bitki\",\"hayvan\"])"
   ]
  },
  {
   "cell_type": "code",
   "execution_count": 28,
   "id": "7c6dbc53",
   "metadata": {},
   "outputs": [
    {
     "data": {
      "text/html": [
       "<div>\n",
       "<style scoped>\n",
       "    .dataframe tbody tr th:only-of-type {\n",
       "        vertical-align: middle;\n",
       "    }\n",
       "\n",
       "    .dataframe tbody tr th {\n",
       "        vertical-align: top;\n",
       "    }\n",
       "\n",
       "    .dataframe thead th {\n",
       "        text-align: right;\n",
       "    }\n",
       "</style>\n",
       "<table border=\"1\" class=\"dataframe\">\n",
       "  <thead>\n",
       "    <tr style=\"text-align: right;\">\n",
       "      <th></th>\n",
       "      <th>Covid-19</th>\n",
       "      <th>HIV</th>\n",
       "      <th>Verem</th>\n",
       "      <th>Hepatit-A</th>\n",
       "    </tr>\n",
       "  </thead>\n",
       "  <tbody>\n",
       "    <tr>\n",
       "      <th>insan</th>\n",
       "      <td>0.097367</td>\n",
       "      <td>1.385216</td>\n",
       "      <td>0.771127</td>\n",
       "      <td>-0.022083</td>\n",
       "    </tr>\n",
       "    <tr>\n",
       "      <th>bitki</th>\n",
       "      <td>-1.774403</td>\n",
       "      <td>0.513769</td>\n",
       "      <td>0.839598</td>\n",
       "      <td>1.234667</td>\n",
       "    </tr>\n",
       "    <tr>\n",
       "      <th>hayvan</th>\n",
       "      <td>-0.653145</td>\n",
       "      <td>0.304987</td>\n",
       "      <td>0.041840</td>\n",
       "      <td>0.833850</td>\n",
       "    </tr>\n",
       "  </tbody>\n",
       "</table>\n",
       "</div>"
      ],
      "text/plain": [
       "        Covid-19       HIV     Verem  Hepatit-A\n",
       "insan   0.097367  1.385216  0.771127  -0.022083\n",
       "bitki  -1.774403  0.513769  0.839598   1.234667\n",
       "hayvan -0.653145  0.304987  0.041840   0.833850"
      ]
     },
     "execution_count": 28,
     "metadata": {},
     "output_type": "execute_result"
    }
   ],
   "source": [
    "df"
   ]
  },
  {
   "cell_type": "code",
   "execution_count": 29,
   "id": "3f1c5248",
   "metadata": {},
   "outputs": [],
   "source": [
    "df[\"Toplam\"] = df[\"HIV\"] + df[\"Verem\"]"
   ]
  },
  {
   "cell_type": "code",
   "execution_count": 30,
   "id": "bbead3bb",
   "metadata": {},
   "outputs": [
    {
     "data": {
      "text/html": [
       "<div>\n",
       "<style scoped>\n",
       "    .dataframe tbody tr th:only-of-type {\n",
       "        vertical-align: middle;\n",
       "    }\n",
       "\n",
       "    .dataframe tbody tr th {\n",
       "        vertical-align: top;\n",
       "    }\n",
       "\n",
       "    .dataframe thead th {\n",
       "        text-align: right;\n",
       "    }\n",
       "</style>\n",
       "<table border=\"1\" class=\"dataframe\">\n",
       "  <thead>\n",
       "    <tr style=\"text-align: right;\">\n",
       "      <th></th>\n",
       "      <th>Covid-19</th>\n",
       "      <th>HIV</th>\n",
       "      <th>Verem</th>\n",
       "      <th>Hepatit-A</th>\n",
       "      <th>Toplam</th>\n",
       "    </tr>\n",
       "  </thead>\n",
       "  <tbody>\n",
       "    <tr>\n",
       "      <th>insan</th>\n",
       "      <td>0.097367</td>\n",
       "      <td>1.385216</td>\n",
       "      <td>0.771127</td>\n",
       "      <td>-0.022083</td>\n",
       "      <td>2.156343</td>\n",
       "    </tr>\n",
       "    <tr>\n",
       "      <th>bitki</th>\n",
       "      <td>-1.774403</td>\n",
       "      <td>0.513769</td>\n",
       "      <td>0.839598</td>\n",
       "      <td>1.234667</td>\n",
       "      <td>1.353367</td>\n",
       "    </tr>\n",
       "    <tr>\n",
       "      <th>hayvan</th>\n",
       "      <td>-0.653145</td>\n",
       "      <td>0.304987</td>\n",
       "      <td>0.041840</td>\n",
       "      <td>0.833850</td>\n",
       "      <td>0.346827</td>\n",
       "    </tr>\n",
       "  </tbody>\n",
       "</table>\n",
       "</div>"
      ],
      "text/plain": [
       "        Covid-19       HIV     Verem  Hepatit-A    Toplam\n",
       "insan   0.097367  1.385216  0.771127  -0.022083  2.156343\n",
       "bitki  -1.774403  0.513769  0.839598   1.234667  1.353367\n",
       "hayvan -0.653145  0.304987  0.041840   0.833850  0.346827"
      ]
     },
     "execution_count": 30,
     "metadata": {},
     "output_type": "execute_result"
    }
   ],
   "source": [
    "df"
   ]
  },
  {
   "cell_type": "code",
   "execution_count": 31,
   "id": "aa8c9541",
   "metadata": {},
   "outputs": [
    {
     "data": {
      "text/html": [
       "<div>\n",
       "<style scoped>\n",
       "    .dataframe tbody tr th:only-of-type {\n",
       "        vertical-align: middle;\n",
       "    }\n",
       "\n",
       "    .dataframe tbody tr th {\n",
       "        vertical-align: top;\n",
       "    }\n",
       "\n",
       "    .dataframe thead th {\n",
       "        text-align: right;\n",
       "    }\n",
       "</style>\n",
       "<table border=\"1\" class=\"dataframe\">\n",
       "  <thead>\n",
       "    <tr style=\"text-align: right;\">\n",
       "      <th></th>\n",
       "      <th>Covid-19</th>\n",
       "      <th>HIV</th>\n",
       "      <th>Verem</th>\n",
       "      <th>Hepatit-A</th>\n",
       "      <th>Toplam</th>\n",
       "    </tr>\n",
       "  </thead>\n",
       "  <tbody>\n",
       "    <tr>\n",
       "      <th>insan</th>\n",
       "      <td>0.097367</td>\n",
       "      <td>1.385216</td>\n",
       "      <td>0.771127</td>\n",
       "      <td>-0.022083</td>\n",
       "      <td>2.156343</td>\n",
       "    </tr>\n",
       "    <tr>\n",
       "      <th>bitki</th>\n",
       "      <td>-1.774403</td>\n",
       "      <td>0.513769</td>\n",
       "      <td>0.839598</td>\n",
       "      <td>1.234667</td>\n",
       "      <td>1.353367</td>\n",
       "    </tr>\n",
       "  </tbody>\n",
       "</table>\n",
       "</div>"
      ],
      "text/plain": [
       "       Covid-19       HIV     Verem  Hepatit-A    Toplam\n",
       "insan  0.097367  1.385216  0.771127  -0.022083  2.156343\n",
       "bitki -1.774403  0.513769  0.839598   1.234667  1.353367"
      ]
     },
     "execution_count": 31,
     "metadata": {},
     "output_type": "execute_result"
    }
   ],
   "source": [
    "df.drop(\"hayvan\")"
   ]
  },
  {
   "cell_type": "code",
   "execution_count": 32,
   "id": "efa46f2d",
   "metadata": {},
   "outputs": [
    {
     "data": {
      "text/html": [
       "<div>\n",
       "<style scoped>\n",
       "    .dataframe tbody tr th:only-of-type {\n",
       "        vertical-align: middle;\n",
       "    }\n",
       "\n",
       "    .dataframe tbody tr th {\n",
       "        vertical-align: top;\n",
       "    }\n",
       "\n",
       "    .dataframe thead th {\n",
       "        text-align: right;\n",
       "    }\n",
       "</style>\n",
       "<table border=\"1\" class=\"dataframe\">\n",
       "  <thead>\n",
       "    <tr style=\"text-align: right;\">\n",
       "      <th></th>\n",
       "      <th>Covid-19</th>\n",
       "      <th>HIV</th>\n",
       "      <th>Verem</th>\n",
       "      <th>Hepatit-A</th>\n",
       "      <th>Toplam</th>\n",
       "    </tr>\n",
       "  </thead>\n",
       "  <tbody>\n",
       "    <tr>\n",
       "      <th>insan</th>\n",
       "      <td>0.097367</td>\n",
       "      <td>1.385216</td>\n",
       "      <td>0.771127</td>\n",
       "      <td>-0.022083</td>\n",
       "      <td>2.156343</td>\n",
       "    </tr>\n",
       "    <tr>\n",
       "      <th>bitki</th>\n",
       "      <td>-1.774403</td>\n",
       "      <td>0.513769</td>\n",
       "      <td>0.839598</td>\n",
       "      <td>1.234667</td>\n",
       "      <td>1.353367</td>\n",
       "    </tr>\n",
       "    <tr>\n",
       "      <th>hayvan</th>\n",
       "      <td>-0.653145</td>\n",
       "      <td>0.304987</td>\n",
       "      <td>0.041840</td>\n",
       "      <td>0.833850</td>\n",
       "      <td>0.346827</td>\n",
       "    </tr>\n",
       "  </tbody>\n",
       "</table>\n",
       "</div>"
      ],
      "text/plain": [
       "        Covid-19       HIV     Verem  Hepatit-A    Toplam\n",
       "insan   0.097367  1.385216  0.771127  -0.022083  2.156343\n",
       "bitki  -1.774403  0.513769  0.839598   1.234667  1.353367\n",
       "hayvan -0.653145  0.304987  0.041840   0.833850  0.346827"
      ]
     },
     "execution_count": 32,
     "metadata": {},
     "output_type": "execute_result"
    }
   ],
   "source": [
    "df"
   ]
  },
  {
   "cell_type": "code",
   "execution_count": 38,
   "id": "5628ecf2",
   "metadata": {},
   "outputs": [
    {
     "data": {
      "text/html": [
       "<div>\n",
       "<style scoped>\n",
       "    .dataframe tbody tr th:only-of-type {\n",
       "        vertical-align: middle;\n",
       "    }\n",
       "\n",
       "    .dataframe tbody tr th {\n",
       "        vertical-align: top;\n",
       "    }\n",
       "\n",
       "    .dataframe thead th {\n",
       "        text-align: right;\n",
       "    }\n",
       "</style>\n",
       "<table border=\"1\" class=\"dataframe\">\n",
       "  <thead>\n",
       "    <tr style=\"text-align: right;\">\n",
       "      <th></th>\n",
       "      <th>Covid-19</th>\n",
       "      <th>HIV</th>\n",
       "      <th>Verem</th>\n",
       "      <th>Hepatit-A</th>\n",
       "    </tr>\n",
       "  </thead>\n",
       "  <tbody>\n",
       "    <tr>\n",
       "      <th>insan</th>\n",
       "      <td>0.097367</td>\n",
       "      <td>1.385216</td>\n",
       "      <td>0.771127</td>\n",
       "      <td>-0.022083</td>\n",
       "    </tr>\n",
       "    <tr>\n",
       "      <th>bitki</th>\n",
       "      <td>-1.774403</td>\n",
       "      <td>0.513769</td>\n",
       "      <td>0.839598</td>\n",
       "      <td>1.234667</td>\n",
       "    </tr>\n",
       "    <tr>\n",
       "      <th>hayvan</th>\n",
       "      <td>-0.653145</td>\n",
       "      <td>0.304987</td>\n",
       "      <td>0.041840</td>\n",
       "      <td>0.833850</td>\n",
       "    </tr>\n",
       "  </tbody>\n",
       "</table>\n",
       "</div>"
      ],
      "text/plain": [
       "        Covid-19       HIV     Verem  Hepatit-A\n",
       "insan   0.097367  1.385216  0.771127  -0.022083\n",
       "bitki  -1.774403  0.513769  0.839598   1.234667\n",
       "hayvan -0.653145  0.304987  0.041840   0.833850"
      ]
     },
     "execution_count": 38,
     "metadata": {},
     "output_type": "execute_result"
    }
   ],
   "source": [
    "df"
   ]
  },
  {
   "cell_type": "code",
   "execution_count": 47,
   "id": "8054cc4f",
   "metadata": {},
   "outputs": [
    {
     "data": {
      "text/plain": [
       "Covid-19    -0.653145\n",
       "HIV          0.304987\n",
       "Verem        0.041840\n",
       "Hepatit-A    0.833850\n",
       "Name: hayvan, dtype: float64"
      ]
     },
     "execution_count": 47,
     "metadata": {},
     "output_type": "execute_result"
    }
   ],
   "source": [
    "df.iloc[2]"
   ]
  },
  {
   "cell_type": "code",
   "execution_count": 48,
   "id": "f55f4a18",
   "metadata": {},
   "outputs": [
    {
     "data": {
      "text/plain": [
       "0.30498712517465354"
      ]
     },
     "execution_count": 48,
     "metadata": {},
     "output_type": "execute_result"
    }
   ],
   "source": [
    "df.loc[\"hayvan\",\"HIV\"]"
   ]
  },
  {
   "cell_type": "code",
   "execution_count": 54,
   "id": "ca21c140",
   "metadata": {},
   "outputs": [
    {
     "data": {
      "text/html": [
       "<div>\n",
       "<style scoped>\n",
       "    .dataframe tbody tr th:only-of-type {\n",
       "        vertical-align: middle;\n",
       "    }\n",
       "\n",
       "    .dataframe tbody tr th {\n",
       "        vertical-align: top;\n",
       "    }\n",
       "\n",
       "    .dataframe thead th {\n",
       "        text-align: right;\n",
       "    }\n",
       "</style>\n",
       "<table border=\"1\" class=\"dataframe\">\n",
       "  <thead>\n",
       "    <tr style=\"text-align: right;\">\n",
       "      <th></th>\n",
       "      <th>Covid-19</th>\n",
       "      <th>HIV</th>\n",
       "      <th>Verem</th>\n",
       "      <th>Hepatit-A</th>\n",
       "    </tr>\n",
       "  </thead>\n",
       "  <tbody>\n",
       "    <tr>\n",
       "      <th>insan</th>\n",
       "      <td>0.097367</td>\n",
       "      <td>1.385216</td>\n",
       "      <td>0.771127</td>\n",
       "      <td>-0.022083</td>\n",
       "    </tr>\n",
       "    <tr>\n",
       "      <th>bitki</th>\n",
       "      <td>-1.774403</td>\n",
       "      <td>0.513769</td>\n",
       "      <td>0.839598</td>\n",
       "      <td>1.234667</td>\n",
       "    </tr>\n",
       "    <tr>\n",
       "      <th>hayvan</th>\n",
       "      <td>-0.653145</td>\n",
       "      <td>0.304987</td>\n",
       "      <td>0.041840</td>\n",
       "      <td>0.833850</td>\n",
       "    </tr>\n",
       "  </tbody>\n",
       "</table>\n",
       "</div>"
      ],
      "text/plain": [
       "        Covid-19       HIV     Verem  Hepatit-A\n",
       "insan   0.097367  1.385216  0.771127  -0.022083\n",
       "bitki  -1.774403  0.513769  0.839598   1.234667\n",
       "hayvan -0.653145  0.304987  0.041840   0.833850"
      ]
     },
     "execution_count": 54,
     "metadata": {},
     "output_type": "execute_result"
    }
   ],
   "source": [
    "df"
   ]
  },
  {
   "cell_type": "code",
   "execution_count": 55,
   "id": "5602039f",
   "metadata": {},
   "outputs": [],
   "source": [
    "arr2 = randn(3,2)"
   ]
  },
  {
   "cell_type": "code",
   "execution_count": 56,
   "id": "2703c2f5",
   "metadata": {},
   "outputs": [
    {
     "data": {
      "text/plain": [
       "array([[-0.61360504, -0.38729827],\n",
       "       [-0.25682139,  1.41376235],\n",
       "       [-0.26191671,  0.65427537]])"
      ]
     },
     "execution_count": 56,
     "metadata": {},
     "output_type": "execute_result"
    }
   ],
   "source": [
    "arr2"
   ]
  },
  {
   "cell_type": "code",
   "execution_count": 57,
   "id": "7f1acdb7",
   "metadata": {},
   "outputs": [],
   "source": [
    "df2 = pd.DataFrame(arr2,[\"insan\",\"bitki\",\"hayvan\"],columns=[\"Hepatit-B\",\"Hepatit-C\"])"
   ]
  },
  {
   "cell_type": "code",
   "execution_count": 58,
   "id": "15a8e57a",
   "metadata": {},
   "outputs": [
    {
     "data": {
      "text/html": [
       "<div>\n",
       "<style scoped>\n",
       "    .dataframe tbody tr th:only-of-type {\n",
       "        vertical-align: middle;\n",
       "    }\n",
       "\n",
       "    .dataframe tbody tr th {\n",
       "        vertical-align: top;\n",
       "    }\n",
       "\n",
       "    .dataframe thead th {\n",
       "        text-align: right;\n",
       "    }\n",
       "</style>\n",
       "<table border=\"1\" class=\"dataframe\">\n",
       "  <thead>\n",
       "    <tr style=\"text-align: right;\">\n",
       "      <th></th>\n",
       "      <th>Hepatit-B</th>\n",
       "      <th>Hepatit-C</th>\n",
       "    </tr>\n",
       "  </thead>\n",
       "  <tbody>\n",
       "    <tr>\n",
       "      <th>insan</th>\n",
       "      <td>-0.613605</td>\n",
       "      <td>-0.387298</td>\n",
       "    </tr>\n",
       "    <tr>\n",
       "      <th>bitki</th>\n",
       "      <td>-0.256821</td>\n",
       "      <td>1.413762</td>\n",
       "    </tr>\n",
       "    <tr>\n",
       "      <th>hayvan</th>\n",
       "      <td>-0.261917</td>\n",
       "      <td>0.654275</td>\n",
       "    </tr>\n",
       "  </tbody>\n",
       "</table>\n",
       "</div>"
      ],
      "text/plain": [
       "        Hepatit-B  Hepatit-C\n",
       "insan   -0.613605  -0.387298\n",
       "bitki   -0.256821   1.413762\n",
       "hayvan  -0.261917   0.654275"
      ]
     },
     "execution_count": 58,
     "metadata": {},
     "output_type": "execute_result"
    }
   ],
   "source": [
    "df2"
   ]
  },
  {
   "cell_type": "code",
   "execution_count": 68,
   "id": "7d0053de",
   "metadata": {},
   "outputs": [],
   "source": [
    "total_df = df.append(df2,ignore_index=False)"
   ]
  },
  {
   "cell_type": "code",
   "execution_count": 69,
   "id": "7331ed1c",
   "metadata": {},
   "outputs": [
    {
     "data": {
      "text/html": [
       "<div>\n",
       "<style scoped>\n",
       "    .dataframe tbody tr th:only-of-type {\n",
       "        vertical-align: middle;\n",
       "    }\n",
       "\n",
       "    .dataframe tbody tr th {\n",
       "        vertical-align: top;\n",
       "    }\n",
       "\n",
       "    .dataframe thead th {\n",
       "        text-align: right;\n",
       "    }\n",
       "</style>\n",
       "<table border=\"1\" class=\"dataframe\">\n",
       "  <thead>\n",
       "    <tr style=\"text-align: right;\">\n",
       "      <th></th>\n",
       "      <th>Covid-19</th>\n",
       "      <th>HIV</th>\n",
       "      <th>Verem</th>\n",
       "      <th>Hepatit-A</th>\n",
       "      <th>Hepatit-B</th>\n",
       "      <th>Hepatit-C</th>\n",
       "    </tr>\n",
       "  </thead>\n",
       "  <tbody>\n",
       "    <tr>\n",
       "      <th>insan</th>\n",
       "      <td>0.097367</td>\n",
       "      <td>1.385216</td>\n",
       "      <td>0.771127</td>\n",
       "      <td>-0.022083</td>\n",
       "      <td>NaN</td>\n",
       "      <td>NaN</td>\n",
       "    </tr>\n",
       "    <tr>\n",
       "      <th>bitki</th>\n",
       "      <td>-1.774403</td>\n",
       "      <td>0.513769</td>\n",
       "      <td>0.839598</td>\n",
       "      <td>1.234667</td>\n",
       "      <td>NaN</td>\n",
       "      <td>NaN</td>\n",
       "    </tr>\n",
       "    <tr>\n",
       "      <th>hayvan</th>\n",
       "      <td>-0.653145</td>\n",
       "      <td>0.304987</td>\n",
       "      <td>0.041840</td>\n",
       "      <td>0.833850</td>\n",
       "      <td>NaN</td>\n",
       "      <td>NaN</td>\n",
       "    </tr>\n",
       "    <tr>\n",
       "      <th>insan</th>\n",
       "      <td>NaN</td>\n",
       "      <td>NaN</td>\n",
       "      <td>NaN</td>\n",
       "      <td>NaN</td>\n",
       "      <td>-0.613605</td>\n",
       "      <td>-0.387298</td>\n",
       "    </tr>\n",
       "    <tr>\n",
       "      <th>bitki</th>\n",
       "      <td>NaN</td>\n",
       "      <td>NaN</td>\n",
       "      <td>NaN</td>\n",
       "      <td>NaN</td>\n",
       "      <td>-0.256821</td>\n",
       "      <td>1.413762</td>\n",
       "    </tr>\n",
       "    <tr>\n",
       "      <th>hayvan</th>\n",
       "      <td>NaN</td>\n",
       "      <td>NaN</td>\n",
       "      <td>NaN</td>\n",
       "      <td>NaN</td>\n",
       "      <td>-0.261917</td>\n",
       "      <td>0.654275</td>\n",
       "    </tr>\n",
       "  </tbody>\n",
       "</table>\n",
       "</div>"
      ],
      "text/plain": [
       "        Covid-19       HIV     Verem  Hepatit-A  Hepatit-B  Hepatit-C\n",
       "insan   0.097367  1.385216  0.771127  -0.022083        NaN        NaN\n",
       "bitki  -1.774403  0.513769  0.839598   1.234667        NaN        NaN\n",
       "hayvan -0.653145  0.304987  0.041840   0.833850        NaN        NaN\n",
       "insan        NaN       NaN       NaN        NaN  -0.613605  -0.387298\n",
       "bitki        NaN       NaN       NaN        NaN  -0.256821   1.413762\n",
       "hayvan       NaN       NaN       NaN        NaN  -0.261917   0.654275"
      ]
     },
     "execution_count": 69,
     "metadata": {},
     "output_type": "execute_result"
    }
   ],
   "source": [
    "total_df"
   ]
  },
  {
   "cell_type": "code",
   "execution_count": 70,
   "id": "03e30899",
   "metadata": {},
   "outputs": [],
   "source": [
    "frames = [df,df2]"
   ]
  },
  {
   "cell_type": "code",
   "execution_count": 74,
   "id": "974d2841",
   "metadata": {},
   "outputs": [
    {
     "data": {
      "text/html": [
       "<div>\n",
       "<style scoped>\n",
       "    .dataframe tbody tr th:only-of-type {\n",
       "        vertical-align: middle;\n",
       "    }\n",
       "\n",
       "    .dataframe tbody tr th {\n",
       "        vertical-align: top;\n",
       "    }\n",
       "\n",
       "    .dataframe thead th {\n",
       "        text-align: right;\n",
       "    }\n",
       "</style>\n",
       "<table border=\"1\" class=\"dataframe\">\n",
       "  <thead>\n",
       "    <tr style=\"text-align: right;\">\n",
       "      <th></th>\n",
       "      <th>Covid-19</th>\n",
       "      <th>HIV</th>\n",
       "      <th>Verem</th>\n",
       "      <th>Hepatit-A</th>\n",
       "      <th>Hepatit-B</th>\n",
       "      <th>Hepatit-C</th>\n",
       "    </tr>\n",
       "  </thead>\n",
       "  <tbody>\n",
       "    <tr>\n",
       "      <th>insan</th>\n",
       "      <td>0.097367</td>\n",
       "      <td>1.385216</td>\n",
       "      <td>0.771127</td>\n",
       "      <td>-0.022083</td>\n",
       "      <td>-0.613605</td>\n",
       "      <td>-0.387298</td>\n",
       "    </tr>\n",
       "    <tr>\n",
       "      <th>bitki</th>\n",
       "      <td>-1.774403</td>\n",
       "      <td>0.513769</td>\n",
       "      <td>0.839598</td>\n",
       "      <td>1.234667</td>\n",
       "      <td>-0.256821</td>\n",
       "      <td>1.413762</td>\n",
       "    </tr>\n",
       "    <tr>\n",
       "      <th>hayvan</th>\n",
       "      <td>-0.653145</td>\n",
       "      <td>0.304987</td>\n",
       "      <td>0.041840</td>\n",
       "      <td>0.833850</td>\n",
       "      <td>-0.261917</td>\n",
       "      <td>0.654275</td>\n",
       "    </tr>\n",
       "  </tbody>\n",
       "</table>\n",
       "</div>"
      ],
      "text/plain": [
       "        Covid-19       HIV     Verem  Hepatit-A  Hepatit-B  Hepatit-C\n",
       "insan   0.097367  1.385216  0.771127  -0.022083  -0.613605  -0.387298\n",
       "bitki  -1.774403  0.513769  0.839598   1.234667  -0.256821   1.413762\n",
       "hayvan -0.653145  0.304987  0.041840   0.833850  -0.261917   0.654275"
      ]
     },
     "execution_count": 74,
     "metadata": {},
     "output_type": "execute_result"
    }
   ],
   "source": [
    "pd.concat(frames,axis=1,join='inner')"
   ]
  },
  {
   "cell_type": "code",
   "execution_count": 75,
   "id": "09fa60f4",
   "metadata": {},
   "outputs": [
    {
     "data": {
      "text/html": [
       "<div>\n",
       "<style scoped>\n",
       "    .dataframe tbody tr th:only-of-type {\n",
       "        vertical-align: middle;\n",
       "    }\n",
       "\n",
       "    .dataframe tbody tr th {\n",
       "        vertical-align: top;\n",
       "    }\n",
       "\n",
       "    .dataframe thead th {\n",
       "        text-align: right;\n",
       "    }\n",
       "</style>\n",
       "<table border=\"1\" class=\"dataframe\">\n",
       "  <thead>\n",
       "    <tr style=\"text-align: right;\">\n",
       "      <th></th>\n",
       "      <th>Covid-19</th>\n",
       "      <th>HIV</th>\n",
       "      <th>Verem</th>\n",
       "      <th>Hepatit-A</th>\n",
       "    </tr>\n",
       "  </thead>\n",
       "  <tbody>\n",
       "    <tr>\n",
       "      <th>insan</th>\n",
       "      <td>0.097367</td>\n",
       "      <td>1.385216</td>\n",
       "      <td>0.771127</td>\n",
       "      <td>-0.022083</td>\n",
       "    </tr>\n",
       "    <tr>\n",
       "      <th>bitki</th>\n",
       "      <td>-1.774403</td>\n",
       "      <td>0.513769</td>\n",
       "      <td>0.839598</td>\n",
       "      <td>1.234667</td>\n",
       "    </tr>\n",
       "    <tr>\n",
       "      <th>hayvan</th>\n",
       "      <td>-0.653145</td>\n",
       "      <td>0.304987</td>\n",
       "      <td>0.041840</td>\n",
       "      <td>0.833850</td>\n",
       "    </tr>\n",
       "  </tbody>\n",
       "</table>\n",
       "</div>"
      ],
      "text/plain": [
       "        Covid-19       HIV     Verem  Hepatit-A\n",
       "insan   0.097367  1.385216  0.771127  -0.022083\n",
       "bitki  -1.774403  0.513769  0.839598   1.234667\n",
       "hayvan -0.653145  0.304987  0.041840   0.833850"
      ]
     },
     "execution_count": 75,
     "metadata": {},
     "output_type": "execute_result"
    }
   ],
   "source": [
    "df"
   ]
  },
  {
   "cell_type": "code",
   "execution_count": 76,
   "id": "10e7e3bb",
   "metadata": {},
   "outputs": [
    {
     "data": {
      "text/html": [
       "<div>\n",
       "<style scoped>\n",
       "    .dataframe tbody tr th:only-of-type {\n",
       "        vertical-align: middle;\n",
       "    }\n",
       "\n",
       "    .dataframe tbody tr th {\n",
       "        vertical-align: top;\n",
       "    }\n",
       "\n",
       "    .dataframe thead th {\n",
       "        text-align: right;\n",
       "    }\n",
       "</style>\n",
       "<table border=\"1\" class=\"dataframe\">\n",
       "  <thead>\n",
       "    <tr style=\"text-align: right;\">\n",
       "      <th></th>\n",
       "      <th>Hepatit-B</th>\n",
       "      <th>Hepatit-C</th>\n",
       "    </tr>\n",
       "  </thead>\n",
       "  <tbody>\n",
       "    <tr>\n",
       "      <th>insan</th>\n",
       "      <td>-0.613605</td>\n",
       "      <td>-0.387298</td>\n",
       "    </tr>\n",
       "    <tr>\n",
       "      <th>bitki</th>\n",
       "      <td>-0.256821</td>\n",
       "      <td>1.413762</td>\n",
       "    </tr>\n",
       "    <tr>\n",
       "      <th>hayvan</th>\n",
       "      <td>-0.261917</td>\n",
       "      <td>0.654275</td>\n",
       "    </tr>\n",
       "  </tbody>\n",
       "</table>\n",
       "</div>"
      ],
      "text/plain": [
       "        Hepatit-B  Hepatit-C\n",
       "insan   -0.613605  -0.387298\n",
       "bitki   -0.256821   1.413762\n",
       "hayvan  -0.261917   0.654275"
      ]
     },
     "execution_count": 76,
     "metadata": {},
     "output_type": "execute_result"
    }
   ],
   "source": [
    "df2"
   ]
  },
  {
   "cell_type": "code",
   "execution_count": 80,
   "id": "28940a4d",
   "metadata": {},
   "outputs": [],
   "source": [
    "total_df=pd.concat(frames,axis=1,join='outer')"
   ]
  },
  {
   "cell_type": "code",
   "execution_count": 81,
   "id": "8959ad63",
   "metadata": {},
   "outputs": [
    {
     "data": {
      "text/html": [
       "<div>\n",
       "<style scoped>\n",
       "    .dataframe tbody tr th:only-of-type {\n",
       "        vertical-align: middle;\n",
       "    }\n",
       "\n",
       "    .dataframe tbody tr th {\n",
       "        vertical-align: top;\n",
       "    }\n",
       "\n",
       "    .dataframe thead th {\n",
       "        text-align: right;\n",
       "    }\n",
       "</style>\n",
       "<table border=\"1\" class=\"dataframe\">\n",
       "  <thead>\n",
       "    <tr style=\"text-align: right;\">\n",
       "      <th></th>\n",
       "      <th>Covid-19</th>\n",
       "      <th>HIV</th>\n",
       "      <th>Verem</th>\n",
       "      <th>Hepatit-A</th>\n",
       "      <th>Hepatit-B</th>\n",
       "      <th>Hepatit-C</th>\n",
       "    </tr>\n",
       "  </thead>\n",
       "  <tbody>\n",
       "    <tr>\n",
       "      <th>insan</th>\n",
       "      <td>0.097367</td>\n",
       "      <td>1.385216</td>\n",
       "      <td>0.771127</td>\n",
       "      <td>-0.022083</td>\n",
       "      <td>-0.613605</td>\n",
       "      <td>-0.387298</td>\n",
       "    </tr>\n",
       "    <tr>\n",
       "      <th>bitki</th>\n",
       "      <td>-1.774403</td>\n",
       "      <td>0.513769</td>\n",
       "      <td>0.839598</td>\n",
       "      <td>1.234667</td>\n",
       "      <td>-0.256821</td>\n",
       "      <td>1.413762</td>\n",
       "    </tr>\n",
       "    <tr>\n",
       "      <th>hayvan</th>\n",
       "      <td>-0.653145</td>\n",
       "      <td>0.304987</td>\n",
       "      <td>0.041840</td>\n",
       "      <td>0.833850</td>\n",
       "      <td>-0.261917</td>\n",
       "      <td>0.654275</td>\n",
       "    </tr>\n",
       "  </tbody>\n",
       "</table>\n",
       "</div>"
      ],
      "text/plain": [
       "        Covid-19       HIV     Verem  Hepatit-A  Hepatit-B  Hepatit-C\n",
       "insan   0.097367  1.385216  0.771127  -0.022083  -0.613605  -0.387298\n",
       "bitki  -1.774403  0.513769  0.839598   1.234667  -0.256821   1.413762\n",
       "hayvan -0.653145  0.304987  0.041840   0.833850  -0.261917   0.654275"
      ]
     },
     "execution_count": 81,
     "metadata": {},
     "output_type": "execute_result"
    }
   ],
   "source": [
    "total_df"
   ]
  },
  {
   "cell_type": "code",
   "execution_count": 83,
   "id": "75a09f7f",
   "metadata": {},
   "outputs": [
    {
     "data": {
      "text/plain": [
       "0.6542753656969322"
      ]
     },
     "execution_count": 83,
     "metadata": {},
     "output_type": "execute_result"
    }
   ],
   "source": [
    "total_df.loc[\"hayvan\",\"Hepatit-C\"]"
   ]
  },
  {
   "cell_type": "code",
   "execution_count": null,
   "id": "530693df",
   "metadata": {},
   "outputs": [],
   "source": []
  }
 ],
 "metadata": {
  "kernelspec": {
   "display_name": "Python 3",
   "language": "python",
   "name": "python3"
  },
  "language_info": {
   "codemirror_mode": {
    "name": "ipython",
    "version": 3
   },
   "file_extension": ".py",
   "mimetype": "text/x-python",
   "name": "python",
   "nbconvert_exporter": "python",
   "pygments_lexer": "ipython3",
   "version": "3.8.8"
  }
 },
 "nbformat": 4,
 "nbformat_minor": 5
}
