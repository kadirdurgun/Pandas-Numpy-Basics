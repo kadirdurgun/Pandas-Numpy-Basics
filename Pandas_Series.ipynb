{
 "cells": [
  {
   "cell_type": "code",
   "execution_count": 1,
   "id": "92534ad5",
   "metadata": {},
   "outputs": [],
   "source": [
    "import numpy as np\n",
    "import pandas as pd"
   ]
  },
  {
   "cell_type": "code",
   "execution_count": 2,
   "id": "988ed9b2",
   "metadata": {},
   "outputs": [],
   "source": [
    "data_list =[\"AA\",\"DC\",\"BB\",\"BA\",\"CC\"]"
   ]
  },
  {
   "cell_type": "code",
   "execution_count": 3,
   "id": "7f043d60",
   "metadata": {},
   "outputs": [],
   "source": [
    "label_list =[\"KADİR\",\"ZEYNEP\",\"SİMGE\",\"KAĞAN\",\"SERHAT\"]"
   ]
  },
  {
   "cell_type": "code",
   "execution_count": 4,
   "id": "8f9ebd67",
   "metadata": {},
   "outputs": [
    {
     "data": {
      "text/plain": [
       "KADİR     AA\n",
       "ZEYNEP    DC\n",
       "SİMGE     BB\n",
       "KAĞAN     BA\n",
       "SERHAT    CC\n",
       "dtype: object"
      ]
     },
     "execution_count": 4,
     "metadata": {},
     "output_type": "execute_result"
    }
   ],
   "source": [
    "pd.Series(data=data_list,index=label_list)"
   ]
  },
  {
   "cell_type": "code",
   "execution_count": 5,
   "id": "8e2a52de",
   "metadata": {},
   "outputs": [
    {
     "data": {
      "text/plain": [
       "0    AA\n",
       "1    DC\n",
       "2    BB\n",
       "3    BA\n",
       "4    CC\n",
       "dtype: object"
      ]
     },
     "execution_count": 5,
     "metadata": {},
     "output_type": "execute_result"
    }
   ],
   "source": [
    "pd.Series(data_list)"
   ]
  },
  {
   "cell_type": "code",
   "execution_count": 6,
   "id": "bbdf6e4c",
   "metadata": {},
   "outputs": [],
   "source": [
    "arr = np.array([100,24,32,16,12])"
   ]
  },
  {
   "cell_type": "code",
   "execution_count": 7,
   "id": "481bbf7a",
   "metadata": {},
   "outputs": [
    {
     "data": {
      "text/plain": [
       "0    100\n",
       "1     24\n",
       "2     32\n",
       "3     16\n",
       "4     12\n",
       "dtype: int32"
      ]
     },
     "execution_count": 7,
     "metadata": {},
     "output_type": "execute_result"
    }
   ],
   "source": [
    "pd.Series(arr)"
   ]
  },
  {
   "cell_type": "code",
   "execution_count": 8,
   "id": "b6110835",
   "metadata": {},
   "outputs": [
    {
     "data": {
      "text/plain": [
       "100     KADİR\n",
       "24     ZEYNEP\n",
       "32      SİMGE\n",
       "16      KAĞAN\n",
       "12     SERHAT\n",
       "dtype: object"
      ]
     },
     "execution_count": 8,
     "metadata": {},
     "output_type": "execute_result"
    }
   ],
   "source": [
    "pd.Series(data=label_list,index=arr)"
   ]
  },
  {
   "cell_type": "code",
   "execution_count": 9,
   "id": "3592958b",
   "metadata": {},
   "outputs": [],
   "source": [
    "mahsul = [\"Patates\",\"Soğan\",\"Lahana\",\"Ayçiçeği\"]"
   ]
  },
  {
   "cell_type": "code",
   "execution_count": 11,
   "id": "6c431d30",
   "metadata": {},
   "outputs": [],
   "source": [
    "miktar =[12,57,22,16]"
   ]
  },
  {
   "cell_type": "code",
   "execution_count": 12,
   "id": "85e16601",
   "metadata": {},
   "outputs": [],
   "source": [
    "ser2019 = pd.Series(data=miktar,index=mahsul)"
   ]
  },
  {
   "cell_type": "code",
   "execution_count": 13,
   "id": "bbcb7aa5",
   "metadata": {},
   "outputs": [
    {
     "data": {
      "text/plain": [
       "Patates     12\n",
       "Soğan       57\n",
       "Lahana      22\n",
       "Ayçiçeği    16\n",
       "dtype: int64"
      ]
     },
     "execution_count": 13,
     "metadata": {},
     "output_type": "execute_result"
    }
   ],
   "source": [
    "ser2019"
   ]
  },
  {
   "cell_type": "code",
   "execution_count": 14,
   "id": "adda8864",
   "metadata": {},
   "outputs": [],
   "source": [
    "ser2020 = pd.Series(data = [14,35,20,10],index= [\"Patates\",\"Turp\",\"Roka\",\"Ayçiçeği\"])"
   ]
  },
  {
   "cell_type": "code",
   "execution_count": 15,
   "id": "9b3659d2",
   "metadata": {},
   "outputs": [
    {
     "data": {
      "text/plain": [
       "Patates     14\n",
       "Turp        35\n",
       "Roka        20\n",
       "Ayçiçeği    10\n",
       "dtype: int64"
      ]
     },
     "execution_count": 15,
     "metadata": {},
     "output_type": "execute_result"
    }
   ],
   "source": [
    "ser2020"
   ]
  },
  {
   "cell_type": "code",
   "execution_count": 16,
   "id": "d59483c7",
   "metadata": {},
   "outputs": [
    {
     "data": {
      "text/plain": [
       "Ayçiçeği    26.0\n",
       "Lahana       NaN\n",
       "Patates     26.0\n",
       "Roka         NaN\n",
       "Soğan        NaN\n",
       "Turp         NaN\n",
       "dtype: float64"
      ]
     },
     "execution_count": 16,
     "metadata": {},
     "output_type": "execute_result"
    }
   ],
   "source": [
    "ser2019 + ser2020"
   ]
  },
  {
   "cell_type": "code",
   "execution_count": 17,
   "id": "601d1afc",
   "metadata": {},
   "outputs": [],
   "source": [
    "toplam = ser2019 + ser2020"
   ]
  },
  {
   "cell_type": "code",
   "execution_count": 18,
   "id": "a83f0806",
   "metadata": {},
   "outputs": [
    {
     "data": {
      "text/plain": [
       "Ayçiçeği    26.0\n",
       "Lahana       NaN\n",
       "Patates     26.0\n",
       "Roka         NaN\n",
       "Soğan        NaN\n",
       "Turp         NaN\n",
       "dtype: float64"
      ]
     },
     "execution_count": 18,
     "metadata": {},
     "output_type": "execute_result"
    }
   ],
   "source": [
    "toplam"
   ]
  },
  {
   "cell_type": "code",
   "execution_count": 20,
   "id": "4f4647d3",
   "metadata": {},
   "outputs": [
    {
     "data": {
      "text/plain": [
       "26.0"
      ]
     },
     "execution_count": 20,
     "metadata": {},
     "output_type": "execute_result"
    }
   ],
   "source": [
    "toplam[\"Ayçiçeği\"]"
   ]
  },
  {
   "cell_type": "code",
   "execution_count": 21,
   "id": "8a1721f7",
   "metadata": {},
   "outputs": [],
   "source": [
    "data_dict= {\"Kadir\":25,\"Zeynep\":43,\"Hakkı\":11,\"Simge\":55}"
   ]
  },
  {
   "cell_type": "code",
   "execution_count": 22,
   "id": "0a89be0c",
   "metadata": {},
   "outputs": [
    {
     "data": {
      "text/plain": [
       "Kadir     25\n",
       "Zeynep    43\n",
       "Hakkı     11\n",
       "Simge     55\n",
       "dtype: int64"
      ]
     },
     "execution_count": 22,
     "metadata": {},
     "output_type": "execute_result"
    }
   ],
   "source": [
    "pd.Series(data_dict)"
   ]
  },
  {
   "cell_type": "code",
   "execution_count": null,
   "id": "35876730",
   "metadata": {},
   "outputs": [],
   "source": []
  },
  {
   "cell_type": "code",
   "execution_count": null,
   "id": "6ee28f44",
   "metadata": {},
   "outputs": [],
   "source": []
  },
  {
   "cell_type": "code",
   "execution_count": null,
   "id": "45b0bee0",
   "metadata": {},
   "outputs": [],
   "source": []
  },
  {
   "cell_type": "code",
   "execution_count": null,
   "id": "2ce8dd5e",
   "metadata": {},
   "outputs": [],
   "source": []
  },
  {
   "cell_type": "code",
   "execution_count": null,
   "id": "8ec88f05",
   "metadata": {},
   "outputs": [],
   "source": []
  },
  {
   "cell_type": "code",
   "execution_count": null,
   "id": "eb9a44fa",
   "metadata": {},
   "outputs": [],
   "source": []
  }
 ],
 "metadata": {
  "kernelspec": {
   "display_name": "Python 3",
   "language": "python",
   "name": "python3"
  },
  "language_info": {
   "codemirror_mode": {
    "name": "ipython",
    "version": 3
   },
   "file_extension": ".py",
   "mimetype": "text/x-python",
   "name": "python",
   "nbconvert_exporter": "python",
   "pygments_lexer": "ipython3",
   "version": "3.8.8"
  }
 },
 "nbformat": 4,
 "nbformat_minor": 5
}
